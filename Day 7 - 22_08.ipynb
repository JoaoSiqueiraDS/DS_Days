{
  "nbformat": 4,
  "nbformat_minor": 0,
  "metadata": {
    "colab": {
      "name": "Untitled5.ipynb",
      "provenance": [],
      "authorship_tag": "ABX9TyNgNYWEbwPl8tKKL3hnVF7h",
      "include_colab_link": true
    },
    "kernelspec": {
      "name": "python3",
      "display_name": "Python 3"
    }
  },
  "cells": [
    {
      "cell_type": "markdown",
      "metadata": {
        "id": "view-in-github",
        "colab_type": "text"
      },
      "source": [
        "<a href=\"https://colab.research.google.com/github/JoaoSiqueiraDS/DS_Days/blob/master/Day%207%20-%2022_08.ipynb\" target=\"_parent\"><img src=\"https://colab.research.google.com/assets/colab-badge.svg\" alt=\"Open In Colab\"/></a>"
      ]
    },
    {
      "cell_type": "markdown",
      "metadata": {
        "id": "cY0Q_MNG2CnR",
        "colab_type": "text"
      },
      "source": [
        "# Day 07 - 22/08/2020"
      ]
    },
    {
      "cell_type": "markdown",
      "metadata": {
        "id": "Ak_6icLMf98m",
        "colab_type": "text"
      },
      "source": [
        "# Corey Schafer Course - Python tutorial OOP 03\n",
        "\n",
        "The difference between reglar methods, static methods and classes methods\n",
        "\n",
        "* Regular method - uses the \"self\" as an argument\n",
        "\n",
        "* Class method - uses the \"decorator @\" - It changes the function to automatic use the \"self\" argument to \"class\" (cls) argument.\n",
        "\n",
        "**Class methods are taken as alternative constructors**\n",
        "\n",
        "* Static methods do not take neither class nor instances as argument. It uses @staticmethod\n",
        "\n",
        "Cool website for more explanations\n",
        "\n",
        "https://realpython.com/instance-class-and-static-methods-demystified/\n",
        "\n",
        "Github of Corey\n",
        "\n",
        "https://github.com/JoaoSiqueiraDS/code_snippets/blob/master/Object-Oriented/3-Class-Static-Methods/oop.py\n",
        "\n",
        "\n"
      ]
    }
  ]
}