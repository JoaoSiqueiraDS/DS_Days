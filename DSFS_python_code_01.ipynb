{
  "nbformat": 4,
  "nbformat_minor": 0,
  "metadata": {
    "colab": {
      "name": "Untitled53.ipynb",
      "provenance": [],
      "authorship_tag": "ABX9TyMp0Yjw5jNxK8g59x1/l43C",
      "include_colab_link": true
    },
    "kernelspec": {
      "name": "python3",
      "display_name": "Python 3"
    },
    "language_info": {
      "name": "python"
    }
  },
  "cells": [
    {
      "cell_type": "markdown",
      "metadata": {
        "id": "view-in-github",
        "colab_type": "text"
      },
      "source": [
        "<a href=\"https://colab.research.google.com/github/JoaoSiqueiraDS/DS_Days/blob/May_2021/DSFS_python_code_01.ipynb\" target=\"_parent\"><img src=\"https://colab.research.google.com/assets/colab-badge.svg\" alt=\"Open In Colab\"/></a>"
      ]
    },
    {
      "cell_type": "code",
      "metadata": {
        "id": "BO24MiZ-HeQs",
        "colab": {
          "base_uri": "https://localhost:8080/"
        },
        "outputId": "fbfd2d04-684c-4475-f65b-8824f85d7d18"
      },
      "source": [
        "users = [\n",
        "{ \"id\": 0, \"name\": \"Hero\" },\n",
        "{ \"id\": 1, \"name\": \"Dunn\" },\n",
        "{ \"id\": 2, \"name\": \"Sue\" },\n",
        "{ \"id\": 3, \"name\": \"Chi\" },\n",
        "{ \"id\": 4, \"name\": \"Thor\" },\n",
        "{ \"id\": 5, \"name\": \"Clive\" },\n",
        "{ \"id\": 6, \"name\": \"Hicks\" },\n",
        "{ \"id\": 7, \"name\": \"Devin\" },\n",
        "{ \"id\": 8, \"name\": \"Kate\" },\n",
        "{ \"id\": 9, \"name\": \"Klein\" }\n",
        "]\n",
        "\n",
        "friendship_pairs = [(0, 1), (0, 2), (1, 2), (1, 3), (2, 3), (3, 4),\n",
        "(4, 5), (5, 6), (5, 7), (6, 8), (7, 8), (8, 9)]\n",
        "\n",
        "\n",
        "friendships = {user[\"id\"]: [] for user in users}\n",
        "\n",
        "for i, j in friendship_pairs:\n",
        "  friendships[i].append(j)\n",
        "  friendships[j].append(i)\n",
        "\n",
        "friendships\n",
        "\n",
        "def number_of_friends(user):\n",
        "  'How many friends does _user_ have?'\n",
        "  user_id = user[\"id\"]\n",
        "  friend_ids = friendships[user_id]\n",
        "  return len(friend_ids)\n",
        "\n",
        "total_connections = sum(number_of_friends(user) for user in users)\n",
        "\n",
        "num_friends_by_id = [(user[\"id\"], number_of_friends(user))\n",
        "for user in users]\n",
        "\n",
        "num_friends_by_id.sort( # Sort the list\n",
        "key=lambda id_and_friends: id_and_friends[1], # by num_friends\n",
        "reverse=True)\n",
        "\n",
        "num_friends_by_id\n",
        "\n",
        "\n",
        "def foaf_ids_bad(user):\n",
        "  \"\"\"foaf is short for \"friend of a friend\" \"\"\"\n",
        "  return [foaf_id\n",
        "  for friend_id in friendships[user[\"id\"]]\n",
        "  for foaf_id in friendships[friend_id]]\n",
        "\n",
        "\n",
        "from collections import Counter # not loaded by default\n",
        "def friends_of_friends(user):\n",
        "  user_id = user[\"id\"]\n",
        "  return Counter(\n",
        "  foaf_id\n",
        "  for friend_id in friendships[user_id] # For each of my friends,\n",
        "  for foaf_id in friendships[friend_id] # find their friends\n",
        "  if foaf_id != user_id # who aren't me\n",
        "  and foaf_id not in friendships[user_id] # and aren't my friends.\n",
        "  )\n",
        "print(friends_of_friends(users[5]))\n",
        "\n"
      ],
      "execution_count": 13,
      "outputs": [
        {
          "output_type": "stream",
          "text": [
            "Counter({8: 2, 3: 1})\n"
          ],
          "name": "stdout"
        }
      ]
    }
  ]
}