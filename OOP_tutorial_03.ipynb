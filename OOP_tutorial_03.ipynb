{
  "nbformat": 4,
  "nbformat_minor": 0,
  "metadata": {
    "colab": {
      "name": "Untitled46.ipynb",
      "provenance": [],
      "authorship_tag": "ABX9TyP3Zb1sAGZNv3xWTgBoKxwP",
      "include_colab_link": true
    },
    "kernelspec": {
      "name": "python3",
      "display_name": "Python 3"
    }
  },
  "cells": [
    {
      "cell_type": "markdown",
      "metadata": {
        "id": "view-in-github",
        "colab_type": "text"
      },
      "source": [
        "<a href=\"https://colab.research.google.com/github/JoaoSiqueiraDS/DS_Days/blob/January_21/OOP_tutorial_03.ipynb\" target=\"_parent\"><img src=\"https://colab.research.google.com/assets/colab-badge.svg\" alt=\"Open In Colab\"/></a>"
      ]
    },
    {
      "cell_type": "code",
      "metadata": {
        "id": "FSPPsxHvfMNI"
      },
      "source": [
        "@staticmethod\r\n",
        "def is_workday(day):\r\n",
        "  if day.weekday() == 5 or day.weekday == 6:\r\n",
        "    return False\r\n",
        "  return True\r\n",
        "\r\n",
        "import datetime\r\n",
        "my_date = datetime.date(2021,1,25)\r\n",
        "\r\n"
      ],
      "execution_count": 2,
      "outputs": []
    },
    {
      "cell_type": "code",
      "metadata": {
        "colab": {
          "base_uri": "https://localhost:8080/"
        },
        "id": "cNsws1FQgYbq",
        "outputId": "b83c12d1-0d8b-4438-c6a9-1faaf0c33add"
      },
      "source": [
        "# Tutorial 2\r\n",
        "\r\n",
        "# Calss variables and Instance Variables\r\n",
        "\r\n",
        "class Employee2:\r\n",
        "\r\n",
        "  raise_amount = 1.04 # this is a class variable - It can be used by any instance in this class\r\n",
        "\r\n",
        "  num_of_emps = 0\r\n",
        "\r\n",
        "  def __init__(self, first, last, pay):\r\n",
        "    self.first = first # instance variable\r\n",
        "    self.last = last # ''\r\n",
        "    self.pay = pay #''\r\n",
        "    self.email = first + \".\" + last + \"@company.com\" #''\r\n",
        "\r\n",
        "    Employee2.num_of_emps += 1\r\n",
        "\r\n",
        "  def fullname(self):\r\n",
        "    return \"{} {}\".format(self.first, self.last)\r\n",
        "\r\n",
        "  def apply_raise(self):\r\n",
        "    self.pay = int(self.pay * self.raise_amount)\r\n",
        "\r\n",
        "# The following lines change the value of a class variable. In this case, raise_amount\r\n",
        "\r\n",
        "  @classmethod\r\n",
        "  def set_raise_amt(cls, amount):\r\n",
        "    cls.raise_amount = amount\r\n",
        "\r\n",
        "  @classmethod\r\n",
        "  def from_string(cls, emp_str):\r\n",
        "    first, last, pay = emp_str.split(\"-\")\r\n",
        "    return cls(first, last, pay)\r\n",
        "\r\n",
        "  @staticmethod\r\n",
        "  def is_workday(day):\r\n",
        "    if day.weekday() == 5 or day.weekday() == 6:\r\n",
        "      return False \r\n",
        "    return True\r\n",
        "\r\n",
        "import datetime\r\n",
        "my_date = datetime.date(2021, 1, 24)\r\n",
        "\r\n",
        "Employee2.set_raise_amt(1.09)\r\n",
        "\r\n",
        "\r\n",
        "emp_3 = Employee2(\"Joao\", \"Marques\", 3500)\r\n",
        "emp_4 = Employee2(\"Mari\", \"Tebaldi\", 5000)\r\n",
        "emp_5 = Employee2(\"Milton\", \"Tebaldi\", 10000)\r\n",
        "emp_6 = Employee2(\"Van\", \"Tebaldi\", 10000)\r\n",
        "\r\n",
        "emp_str_1 = \"Joe-Doe-8000\"\r\n",
        "\r\n",
        "print(emp_3.raise_amount) # When an attribute is not found in an Instance (that is the case of raise_amount) the program looks for a class attribute\r\n",
        "\r\n",
        "print(emp_3.__dict__)\r\n",
        "\r\n",
        "print(emp_3.fullname())\r\n",
        "\r\n",
        "print(Employee2.num_of_emps)\r\n",
        "\r\n",
        "print(Employee2.raise_amount)\r\n",
        "\r\n",
        "New_emp = Employee2.from_string(emp_str_1)\r\n",
        "\r\n",
        "print(New_emp.__dict__)\r\n",
        "\r\n",
        "print(my_date)\r\n",
        "\r\n",
        "print(my_date)\r\n",
        "\r\n",
        "print(Employee2.is_workday(datetime.date(2021,1,24)))\r\n",
        "\r\n"
      ],
      "execution_count": 53,
      "outputs": [
        {
          "output_type": "stream",
          "text": [
            "1.09\n",
            "{'first': 'Joao', 'last': 'Marques', 'pay': 3500, 'email': 'Joao.Marques@company.com'}\n",
            "Joao Marques\n",
            "4\n",
            "1.09\n",
            "{'first': 'Joe', 'last': 'Doe', 'pay': '8000', 'email': 'Joe.Doe@company.com'}\n",
            "2021-01-24\n",
            "2021-01-24\n",
            "False\n"
          ],
          "name": "stdout"
        }
      ]
    }
  ]
}