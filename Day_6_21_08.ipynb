{
  "nbformat": 4,
  "nbformat_minor": 0,
  "metadata": {
    "colab": {
      "name": "Untitled4.ipynb",
      "provenance": [],
      "authorship_tag": "ABX9TyOTfYPSskBW+TsduYb/c9v9",
      "include_colab_link": true
    },
    "kernelspec": {
      "name": "python3",
      "display_name": "Python 3"
    }
  },
  "cells": [
    {
      "cell_type": "markdown",
      "metadata": {
        "id": "view-in-github",
        "colab_type": "text"
      },
      "source": [
        "<a href=\"https://colab.research.google.com/github/JoaoSiqueiraDS/DS_Days/blob/master/Day_6_21_08.ipynb\" target=\"_parent\"><img src=\"https://colab.research.google.com/assets/colab-badge.svg\" alt=\"Open In Colab\"/></a>"
      ]
    },
    {
      "cell_type": "markdown",
      "metadata": {
        "id": "rD0-hC5xjtgS",
        "colab_type": "text"
      },
      "source": [
        "#Numpy arrays\n",
        "\n"
      ]
    },
    {
      "cell_type": "code",
      "metadata": {
        "id": "LFvPx207j4B8",
        "colab_type": "code",
        "colab": {
          "base_uri": "https://localhost:8080/",
          "height": 35
        },
        "outputId": "31a77b27-5f84-47ff-ca48-732c5c984b1b"
      },
      "source": [
        "import numpy as np\n",
        "\n",
        "x = np.zeros(4)\n",
        "x\n",
        "\n",
        "y = np.array([1,2,3,4])\n",
        "y\n",
        "\n",
        "#Slicing\n",
        "\n",
        "X = np.array([[1,2,3], [4,5,6]])\n",
        "\n",
        "X[1,:]\n",
        "\n",
        "X[1,0:3]"
      ],
      "execution_count": null,
      "outputs": [
        {
          "output_type": "execute_result",
          "data": {
            "text/plain": [
              "array([4, 5, 6])"
            ]
          },
          "metadata": {
            "tags": []
          },
          "execution_count": 20
        }
      ]
    },
    {
      "cell_type": "markdown",
      "metadata": {
        "id": "hrReqhneVi7A",
        "colab_type": "text"
      },
      "source": [
        "# Exploratory Data Analysis: A Practical Guide and Template for Structured Data\n",
        "\n",
        "* Common data types: categorical, numerical and datatime\n",
        "* Our main EDA objective for categorical data is to know the unique values and their corresponding count.\n",
        "* For numeric data, our EDA approach is as follows:\n",
        "1 - Plot univariate distribution of each numeric data;\n",
        "2 - If categorical data are available, plot univariate distribution by each categorical value;\n",
        "3 - Plot pairwise joint distribution of numeric data\n",
        "* Time series:\n",
        "Lastly, we also plotted time series charts to check for trends and seasonality."
      ]
    },
    {
      "cell_type": "code",
      "metadata": {
        "id": "ac5E4DjYbf1v",
        "colab_type": "code",
        "colab": {}
      },
      "source": [
        "#Functions\n",
        "\n",
        "# generate count statistics of duplicate entries\n",
        "if len(df[df.duplicated()]) > 0:\n",
        "    print(\"No. of duplicated entries: \", len(df[df.duplicated()]))\n",
        "    print(df[df.duplicated(keep=False)].sort_values(by=list(df.columns)).head())\n",
        "else:\n",
        "    print(\"No duplicated entries found\")\n",
        "\n",
        "##############################################################\n",
        "\n",
        "# generate count statistics of duplicate entries\n",
        "if len(df[df.duplicated()]) > 0:\n",
        "    print(\"No. of duplicated entries: \", len(df[df.duplicated()]))\n",
        "    print(df[df.duplicated(keep=False)].sort_values(by=list(df.columns)).head())\n",
        "else:\n",
        "    print(\"No duplicated entries found\")\n",
        "\n",
        "##############################################################\n",
        "\n",
        "# Droping duplicated values\n",
        "\n",
        "df.drop_duplicates(inplace=True)\n",
        "\n"
      ],
      "execution_count": null,
      "outputs": []
    },
    {
      "cell_type": "markdown",
      "metadata": {
        "id": "UnrqQDsvJQoQ",
        "colab_type": "text"
      },
      "source": [
        "# EDA\n"
      ]
    },
    {
      "cell_type": "code",
      "metadata": {
        "id": "mBsI7Kp9K9YJ",
        "colab_type": "code",
        "colab": {
          "base_uri": "https://localhost:8080/",
          "height": 332
        },
        "outputId": "ac09b5c2-f433-4b00-881b-7bb0c8e6d649"
      },
      "source": [
        "#Import Pandas\n",
        "\n",
        "import pandas as pd\n",
        "\n",
        "# CSV File Path\n",
        "\n",
        "file_path  = \"https://raw.githubusercontent.com/carlosfab/dsnp2/master/datasets/ocorrencias_aviacao.csv\"\n",
        "\n",
        "# Import csv archive into a dataframe variable\n",
        "\n",
        "df = pd.read_csv(file_path,)\n",
        "\n",
        "\n",
        "# See the first rows\n",
        "df.head()\n",
        "\n"
      ],
      "execution_count": 2,
      "outputs": [
        {
          "output_type": "execute_result",
          "data": {
            "text/html": [
              "<div>\n",
              "<style scoped>\n",
              "    .dataframe tbody tr th:only-of-type {\n",
              "        vertical-align: middle;\n",
              "    }\n",
              "\n",
              "    .dataframe tbody tr th {\n",
              "        vertical-align: top;\n",
              "    }\n",
              "\n",
              "    .dataframe thead th {\n",
              "        text-align: right;\n",
              "    }\n",
              "</style>\n",
              "<table border=\"1\" class=\"dataframe\">\n",
              "  <thead>\n",
              "    <tr style=\"text-align: right;\">\n",
              "      <th></th>\n",
              "      <th>codigo_ocorrencia</th>\n",
              "      <th>ocorrencia_classificacao</th>\n",
              "      <th>ocorrencia_tipo</th>\n",
              "      <th>ocorrencia_tipo_categoria</th>\n",
              "      <th>ocorrencia_tipo_icao</th>\n",
              "      <th>ocorrencia_latitude</th>\n",
              "      <th>ocorrencia_longitude</th>\n",
              "      <th>ocorrencia_cidade</th>\n",
              "      <th>ocorrencia_uf</th>\n",
              "      <th>ocorrencia_pais</th>\n",
              "      <th>ocorrencia_aerodromo</th>\n",
              "      <th>ocorrencia_dia</th>\n",
              "      <th>ocorrencia_horario</th>\n",
              "      <th>investigacao_aeronave_liberada</th>\n",
              "      <th>investigacao_status</th>\n",
              "      <th>divulgacao_relatorio_numero</th>\n",
              "      <th>divulgacao_relatorio_publicado</th>\n",
              "      <th>divulgacao_dia_publicacao</th>\n",
              "      <th>total_recomendacoes</th>\n",
              "      <th>total_aeronaves_envolvidas</th>\n",
              "      <th>ocorrencia_saida_pista</th>\n",
              "      <th>ocorrencia_dia_extracao</th>\n",
              "    </tr>\n",
              "  </thead>\n",
              "  <tbody>\n",
              "    <tr>\n",
              "      <th>0</th>\n",
              "      <td>201305055424986</td>\n",
              "      <td>ACIDENTE</td>\n",
              "      <td>FALHA DO MOTOR EM VOO</td>\n",
              "      <td>FALHA OU MAU FUNCIONAMENTO DO MOTOR</td>\n",
              "      <td>SCF-PP</td>\n",
              "      <td>-9.9085</td>\n",
              "      <td>-63.0333</td>\n",
              "      <td>ARIQUEMES</td>\n",
              "      <td>RO</td>\n",
              "      <td>BRASIL</td>\n",
              "      <td>SJOG</td>\n",
              "      <td>2013-05-05</td>\n",
              "      <td>11:00:00</td>\n",
              "      <td>NaN</td>\n",
              "      <td>FINALIZADA</td>\n",
              "      <td>***</td>\n",
              "      <td>NÃO</td>\n",
              "      <td>NaN</td>\n",
              "      <td>0</td>\n",
              "      <td>1</td>\n",
              "      <td>NÃO</td>\n",
              "      <td>2018-08-28</td>\n",
              "    </tr>\n",
              "    <tr>\n",
              "      <th>1</th>\n",
              "      <td>201605160250139</td>\n",
              "      <td>INCIDENTE GRAVE</td>\n",
              "      <td>COLISÃO COM OBSTÁCULO DURANTE A DECOLAGEM E POUSO</td>\n",
              "      <td>COLISÃO COM OBSTÁCULO DURANTE A DECOLAGEM E POUSO</td>\n",
              "      <td>CTOL</td>\n",
              "      <td>-11.2644</td>\n",
              "      <td>-61.2589</td>\n",
              "      <td>CACOAL</td>\n",
              "      <td>RO</td>\n",
              "      <td>BRASIL</td>\n",
              "      <td>SSKW</td>\n",
              "      <td>2016-05-13</td>\n",
              "      <td>19:19:00</td>\n",
              "      <td>SIM</td>\n",
              "      <td>ATIVA</td>\n",
              "      <td>IG-084/CENIPA/2016</td>\n",
              "      <td>NÃO</td>\n",
              "      <td>NaN</td>\n",
              "      <td>0</td>\n",
              "      <td>1</td>\n",
              "      <td>NÃO</td>\n",
              "      <td>2018-08-28</td>\n",
              "    </tr>\n",
              "    <tr>\n",
              "      <th>2</th>\n",
              "      <td>201805021421302</td>\n",
              "      <td>INCIDENTE</td>\n",
              "      <td>AERÓDROMO</td>\n",
              "      <td>AERÓDROMO</td>\n",
              "      <td>ADRM</td>\n",
              "      <td>-11.4956</td>\n",
              "      <td>-61.4508</td>\n",
              "      <td>CACOAL</td>\n",
              "      <td>RO</td>\n",
              "      <td>BRASIL</td>\n",
              "      <td>SSKW</td>\n",
              "      <td>2018-03-09</td>\n",
              "      <td>22:40:00</td>\n",
              "      <td>SIM</td>\n",
              "      <td>FINALIZADA</td>\n",
              "      <td>***</td>\n",
              "      <td>NÃO</td>\n",
              "      <td>NaN</td>\n",
              "      <td>0</td>\n",
              "      <td>1</td>\n",
              "      <td>NÃO</td>\n",
              "      <td>2018-08-28</td>\n",
              "    </tr>\n",
              "    <tr>\n",
              "      <th>3</th>\n",
              "      <td>201311259977425</td>\n",
              "      <td>INCIDENTE GRAVE</td>\n",
              "      <td>POUSO SEM TREM</td>\n",
              "      <td>CONTATO ANORMAL COM A PISTA</td>\n",
              "      <td>ARC</td>\n",
              "      <td>-11.4956</td>\n",
              "      <td>-61.4508</td>\n",
              "      <td>CACOAL</td>\n",
              "      <td>RO</td>\n",
              "      <td>BRASIL</td>\n",
              "      <td>SSKW</td>\n",
              "      <td>2013-11-25</td>\n",
              "      <td>12:32:00</td>\n",
              "      <td>NaN</td>\n",
              "      <td>FINALIZADA</td>\n",
              "      <td>IG-209/CENIPA/2013</td>\n",
              "      <td>SIM</td>\n",
              "      <td>2014-04-07</td>\n",
              "      <td>0</td>\n",
              "      <td>1</td>\n",
              "      <td>NÃO</td>\n",
              "      <td>2018-08-28</td>\n",
              "    </tr>\n",
              "    <tr>\n",
              "      <th>4</th>\n",
              "      <td>201103187273112</td>\n",
              "      <td>INCIDENTE</td>\n",
              "      <td>OUTROS</td>\n",
              "      <td>OUTROS</td>\n",
              "      <td>OTHR</td>\n",
              "      <td>-13.1950</td>\n",
              "      <td>-60.8184</td>\n",
              "      <td>CEREJEIRAS</td>\n",
              "      <td>RO</td>\n",
              "      <td>BRASIL</td>\n",
              "      <td>****</td>\n",
              "      <td>2011-03-18</td>\n",
              "      <td>13:30:00</td>\n",
              "      <td>NaN</td>\n",
              "      <td>FINALIZADA</td>\n",
              "      <td>***</td>\n",
              "      <td>NÃO</td>\n",
              "      <td>NaN</td>\n",
              "      <td>0</td>\n",
              "      <td>1</td>\n",
              "      <td>NÃO</td>\n",
              "      <td>2018-08-28</td>\n",
              "    </tr>\n",
              "  </tbody>\n",
              "</table>\n",
              "</div>"
            ],
            "text/plain": [
              "   codigo_ocorrencia  ... ocorrencia_dia_extracao\n",
              "0    201305055424986  ...              2018-08-28\n",
              "1    201605160250139  ...              2018-08-28\n",
              "2    201805021421302  ...              2018-08-28\n",
              "3    201311259977425  ...              2018-08-28\n",
              "4    201103187273112  ...              2018-08-28\n",
              "\n",
              "[5 rows x 22 columns]"
            ]
          },
          "metadata": {
            "tags": []
          },
          "execution_count": 2
        }
      ]
    },
    {
      "cell_type": "code",
      "metadata": {
        "id": "-PIsef76MHnJ",
        "colab_type": "code",
        "colab": {
          "base_uri": "https://localhost:8080/",
          "height": 941
        },
        "outputId": "1f5a0d45-486d-4f90-ad4f-c1a179667d3d"
      },
      "source": [
        "# See df summary\n",
        "\n",
        "df.info()\n",
        "\n",
        "df.dtypes"
      ],
      "execution_count": 4,
      "outputs": [
        {
          "output_type": "stream",
          "text": [
            "<class 'pandas.core.frame.DataFrame'>\n",
            "RangeIndex: 5208 entries, 0 to 5207\n",
            "Data columns (total 22 columns):\n",
            " #   Column                          Non-Null Count  Dtype  \n",
            "---  ------                          --------------  -----  \n",
            " 0   codigo_ocorrencia               5208 non-null   int64  \n",
            " 1   ocorrencia_classificacao        5208 non-null   object \n",
            " 2   ocorrencia_tipo                 5208 non-null   object \n",
            " 3   ocorrencia_tipo_categoria       5208 non-null   object \n",
            " 4   ocorrencia_tipo_icao            5208 non-null   object \n",
            " 5   ocorrencia_latitude             5208 non-null   float64\n",
            " 6   ocorrencia_longitude            5208 non-null   float64\n",
            " 7   ocorrencia_cidade               5208 non-null   object \n",
            " 8   ocorrencia_uf                   5208 non-null   object \n",
            " 9   ocorrencia_pais                 5208 non-null   object \n",
            " 10  ocorrencia_aerodromo            5208 non-null   object \n",
            " 11  ocorrencia_dia                  5208 non-null   object \n",
            " 12  ocorrencia_horario              5208 non-null   object \n",
            " 13  investigacao_aeronave_liberada  1110 non-null   object \n",
            " 14  investigacao_status             5208 non-null   object \n",
            " 15  divulgacao_relatorio_numero     5208 non-null   object \n",
            " 16  divulgacao_relatorio_publicado  5208 non-null   object \n",
            " 17  divulgacao_dia_publicacao       1261 non-null   object \n",
            " 18  total_recomendacoes             5208 non-null   int64  \n",
            " 19  total_aeronaves_envolvidas      5208 non-null   int64  \n",
            " 20  ocorrencia_saida_pista          5208 non-null   object \n",
            " 21  ocorrencia_dia_extracao         5208 non-null   object \n",
            "dtypes: float64(2), int64(3), object(17)\n",
            "memory usage: 895.2+ KB\n"
          ],
          "name": "stdout"
        },
        {
          "output_type": "execute_result",
          "data": {
            "text/plain": [
              "codigo_ocorrencia                   int64\n",
              "ocorrencia_classificacao           object\n",
              "ocorrencia_tipo                    object\n",
              "ocorrencia_tipo_categoria          object\n",
              "ocorrencia_tipo_icao               object\n",
              "ocorrencia_latitude               float64\n",
              "ocorrencia_longitude              float64\n",
              "ocorrencia_cidade                  object\n",
              "ocorrencia_uf                      object\n",
              "ocorrencia_pais                    object\n",
              "ocorrencia_aerodromo               object\n",
              "ocorrencia_dia                     object\n",
              "ocorrencia_horario                 object\n",
              "investigacao_aeronave_liberada     object\n",
              "investigacao_status                object\n",
              "divulgacao_relatorio_numero        object\n",
              "divulgacao_relatorio_publicado     object\n",
              "divulgacao_dia_publicacao          object\n",
              "total_recomendacoes                 int64\n",
              "total_aeronaves_envolvidas          int64\n",
              "ocorrencia_saida_pista             object\n",
              "ocorrencia_dia_extracao            object\n",
              "dtype: object"
            ]
          },
          "metadata": {
            "tags": []
          },
          "execution_count": 4
        }
      ]
    },
    {
      "cell_type": "code",
      "metadata": {
        "id": "TMZQnabRM5WS",
        "colab_type": "code",
        "colab": {
          "base_uri": "https://localhost:8080/",
          "height": 568
        },
        "outputId": "f0336b3d-86a5-4165-80c1-30c68b208a26"
      },
      "source": [
        "# Unique values of the variables\n",
        "\n",
        "df[\"ocorrencia_tipo\"].unique()"
      ],
      "execution_count": 12,
      "outputs": [
        {
          "output_type": "execute_result",
          "data": {
            "text/plain": [
              "array(['FALHA DO MOTOR EM VOO',\n",
              "       'COLISÃO COM OBSTÁCULO DURANTE A DECOLAGEM E POUSO', 'AERÓDROMO',\n",
              "       'POUSO SEM TREM', 'OUTROS', 'PERDA DE CONTROLE NO SOLO',\n",
              "       'POUSO LONGO', 'TRÁFEGO AÉREO', 'PERDA DE CONTROLE EM VOO',\n",
              "       'COM TREM DE POUSO', 'INDETERMINADO', 'ESTOURO DE PNEU',\n",
              "       'VOO CONTROLADO CONTRA O TERRENO', 'EXCURSÃO DE PISTA',\n",
              "       'POUSO BRUSCO', 'CAUSADO POR FENÔMENO METEOROLÓGICO EM VOO',\n",
              "       'INCURSÃO EM PISTA', 'VAZAMENTO DE OUTROS FLUIDOS', 'COM ROTOR',\n",
              "       'FALHA OU MAU FUNCIONAMENTO DE SISTEMA / COMPONENTE ',\n",
              "       'PERDA DE COMPONENTE EM VOO', 'SOPRO DE REATOR',\n",
              "       'COM PARA-BRISAS / JANELA / PORTA', 'COM LANÇAMENTO DE CARGA',\n",
              "       'POUSO ANTES DA PISTA', 'F.O.D.', 'PROBLEMAS FISIOLÓGICOS',\n",
              "       'DESCOMPRESSÃO NÃO INTENCIONAL / EXPLOSIVA',\n",
              "       'COLISÃO DE VEÍCULO COM AERONAVE', 'FOGO NO SOLO', 'FOGO EM VOO',\n",
              "       'CAUSADO POR FENÔMENO METEOROLÓGICO NO SOLO', 'COM PESSOAL EM VOO',\n",
              "       'COLISÃO DE AERONAVES EM VOO', 'FUMAÇA NA CABINE',\n",
              "       'COLISÃO COM OBSTÁCULOS NO SOLO', 'PERDA DE COMPONENTE NO SOLO',\n",
              "       'SOPRO DE ROTOR', 'FALHA DO MOTOR NO SOLO', 'SUPERAQUECIMENTO',\n",
              "       'COM COMANDOS DE VOO', 'FALHA ESTRUTURAL',\n",
              "       'POUSO EM LOCAL NÃO PREVISTO', 'DESORIENTAÇÃO ESPACIAL',\n",
              "       'VAZAMENTO DE COMBUSTÍVEL', 'PANE SECA',\n",
              "       'COLISÃO COM AERONAVE NO SOLO', 'CORTE INVOLUNTÁRIO DO MOTOR',\n",
              "       'TURBULÊNCIA', 'OPERAÇÃO A BAIXA ALTITUDE', 'COM HÉLICE',\n",
              "       'COM LANÇAMENTO DE PESSOAS', 'COLISÃO EM VOO COM OBJETO REBOCADO',\n",
              "       'AERONAVE ATINGIDA POR OBJETO',\n",
              "       'FALHA OU MAU FUNCIONAMENTO DO MOTOR',\n",
              "       'CONTATO ANORMAL COM A PISTA ', 'CORTANTE DE VENTO / TEMPESTADE',\n",
              "       'OPERAÇÕES NO SOLO', 'CAUSADO POR RICOCHETE',\n",
              "       'RELACIONADO COM SECURITY', 'PERDA DA CONSCIÊNCIA',\n",
              "       'ALARME FALSO DE FOGO OU DE SUPERAQUECIMENTO', 'MANOBRA ABRUPTA'],\n",
              "      dtype=object)"
            ]
          },
          "metadata": {
            "tags": []
          },
          "execution_count": 12
        }
      ]
    },
    {
      "cell_type": "code",
      "metadata": {
        "id": "wOEV6QqpNgXk",
        "colab_type": "code",
        "colab": {
          "base_uri": "https://localhost:8080/",
          "height": 230
        },
        "outputId": "886374a0-2288-4760-ae86-cfb25cff8757"
      },
      "source": [
        "# Knowing the number of occurances of each type of ...\n",
        "\n",
        "df['ocorrencia_tipo'].value_counts()\n",
        "\n",
        "# The %\n",
        "\n",
        "df['ocorrencia_tipo'].value_counts()/df.shape[0]"
      ],
      "execution_count": 17,
      "outputs": [
        {
          "output_type": "execute_result",
          "data": {
            "text/plain": [
              "FALHA DO MOTOR EM VOO                                  0.130952\n",
              "ESTOURO DE PNEU                                        0.115975\n",
              "FALHA OU MAU FUNCIONAMENTO DE SISTEMA / COMPONENTE     0.110215\n",
              "PERDA DE CONTROLE NO SOLO                              0.094470\n",
              "OUTROS                                                 0.067204\n",
              "                                                         ...   \n",
              "CAUSADO POR RICOCHETE                                  0.000192\n",
              "ALARME FALSO DE FOGO OU DE SUPERAQUECIMENTO            0.000192\n",
              "RELACIONADO COM SECURITY                               0.000192\n",
              "CORTANTE DE VENTO / TEMPESTADE                         0.000192\n",
              "MANOBRA ABRUPTA                                        0.000192\n",
              "Name: ocorrencia_tipo, Length: 63, dtype: float64"
            ]
          },
          "metadata": {
            "tags": []
          },
          "execution_count": 17
        }
      ]
    },
    {
      "cell_type": "markdown",
      "metadata": {
        "id": "Y7pSTPDbTAfg",
        "colab_type": "text"
      },
      "source": [
        "# Working with null values"
      ]
    },
    {
      "cell_type": "code",
      "metadata": {
        "id": "FKUR8gXwTFgM",
        "colab_type": "code",
        "colab": {
          "base_uri": "https://localhost:8080/",
          "height": 194
        },
        "outputId": "521b635f-f02c-4f63-fdac-9398eed28ef3"
      },
      "source": [
        "# Import Pandas\n",
        "\n",
        "import pandas as pd\n",
        "\n",
        "# The file path\n",
        "\n",
        "File_Path = \"http://dl.dropboxusercontent.com/s/yyfeoxqw61o3iel/df_rides.csv\"\n",
        "\n",
        "# import the dataset\n",
        "\n",
        "df = pd.read_csv(File_Path)\n",
        "\n",
        "# See the first 5 rows\n",
        "\n",
        "df.head()"
      ],
      "execution_count": 18,
      "outputs": [
        {
          "output_type": "execute_result",
          "data": {
            "text/html": [
              "<div>\n",
              "<style scoped>\n",
              "    .dataframe tbody tr th:only-of-type {\n",
              "        vertical-align: middle;\n",
              "    }\n",
              "\n",
              "    .dataframe tbody tr th {\n",
              "        vertical-align: top;\n",
              "    }\n",
              "\n",
              "    .dataframe thead th {\n",
              "        text-align: right;\n",
              "    }\n",
              "</style>\n",
              "<table border=\"1\" class=\"dataframe\">\n",
              "  <thead>\n",
              "    <tr style=\"text-align: right;\">\n",
              "      <th></th>\n",
              "      <th>user_gender</th>\n",
              "      <th>user_birthdate</th>\n",
              "      <th>user_residence</th>\n",
              "      <th>ride_date</th>\n",
              "      <th>time_start</th>\n",
              "      <th>time_end</th>\n",
              "      <th>station_start</th>\n",
              "      <th>station_end</th>\n",
              "      <th>ride_duration</th>\n",
              "      <th>ride_late</th>\n",
              "    </tr>\n",
              "  </thead>\n",
              "  <tbody>\n",
              "    <tr>\n",
              "      <th>0</th>\n",
              "      <td>M</td>\n",
              "      <td>1971-06-08</td>\n",
              "      <td>NaN</td>\n",
              "      <td>2018-01-01</td>\n",
              "      <td>06:05:18</td>\n",
              "      <td>06:21:33</td>\n",
              "      <td>11 - Rodoviária 2</td>\n",
              "      <td>41 - Instituto de Artes</td>\n",
              "      <td>16.250000</td>\n",
              "      <td>0.0</td>\n",
              "    </tr>\n",
              "    <tr>\n",
              "      <th>1</th>\n",
              "      <td>M</td>\n",
              "      <td>1989-02-11</td>\n",
              "      <td>DF</td>\n",
              "      <td>2018-01-01</td>\n",
              "      <td>06:27:01</td>\n",
              "      <td>06:32:17</td>\n",
              "      <td>26 - Ministério da Saude</td>\n",
              "      <td>28 - CNMP - Conselho Nacional do Ministério Pú...</td>\n",
              "      <td>5.266667</td>\n",
              "      <td>0.0</td>\n",
              "    </tr>\n",
              "    <tr>\n",
              "      <th>2</th>\n",
              "      <td>M</td>\n",
              "      <td>1968-07-19</td>\n",
              "      <td>NaN</td>\n",
              "      <td>2018-01-01</td>\n",
              "      <td>06:29:33</td>\n",
              "      <td>06:44:57</td>\n",
              "      <td>11 - Rodoviária 2</td>\n",
              "      <td>43 - Biblioteca Central</td>\n",
              "      <td>15.400000</td>\n",
              "      <td>0.0</td>\n",
              "    </tr>\n",
              "    <tr>\n",
              "      <th>3</th>\n",
              "      <td>M</td>\n",
              "      <td>1991-12-19</td>\n",
              "      <td>NaN</td>\n",
              "      <td>2018-01-01</td>\n",
              "      <td>06:53:53</td>\n",
              "      <td>06:59:45</td>\n",
              "      <td>10 - Ministério dos Transportes</td>\n",
              "      <td>6 - Rodoviária</td>\n",
              "      <td>5.866667</td>\n",
              "      <td>0.0</td>\n",
              "    </tr>\n",
              "    <tr>\n",
              "      <th>4</th>\n",
              "      <td>M</td>\n",
              "      <td>1969-03-03</td>\n",
              "      <td>DF</td>\n",
              "      <td>2018-01-01</td>\n",
              "      <td>06:58:56</td>\n",
              "      <td>17:40:04</td>\n",
              "      <td>15 - Brasil 21</td>\n",
              "      <td>11 - Rodoviária 2</td>\n",
              "      <td>641.133333</td>\n",
              "      <td>1.0</td>\n",
              "    </tr>\n",
              "  </tbody>\n",
              "</table>\n",
              "</div>"
            ],
            "text/plain": [
              "  user_gender user_birthdate  ... ride_duration ride_late\n",
              "0           M     1971-06-08  ...     16.250000       0.0\n",
              "1           M     1989-02-11  ...      5.266667       0.0\n",
              "2           M     1968-07-19  ...     15.400000       0.0\n",
              "3           M     1991-12-19  ...      5.866667       0.0\n",
              "4           M     1969-03-03  ...    641.133333       1.0\n",
              "\n",
              "[5 rows x 10 columns]"
            ]
          },
          "metadata": {
            "tags": []
          },
          "execution_count": 18
        }
      ]
    },
    {
      "cell_type": "code",
      "metadata": {
        "id": "CYmIR7qLUClA",
        "colab_type": "code",
        "colab": {
          "base_uri": "https://localhost:8080/",
          "height": 212
        },
        "outputId": "1ebda685-5e5f-4e9a-ecb0-2bf6257b08c4"
      },
      "source": [
        "# See the null values\n",
        "\n",
        "df.isnull().sum()"
      ],
      "execution_count": 20,
      "outputs": [
        {
          "output_type": "execute_result",
          "data": {
            "text/plain": [
              "user_gender          396\n",
              "user_birthdate         1\n",
              "user_residence    179905\n",
              "ride_date              0\n",
              "time_start             0\n",
              "time_end           43285\n",
              "station_start          0\n",
              "station_end            0\n",
              "ride_duration      73174\n",
              "ride_late          73174\n",
              "dtype: int64"
            ]
          },
          "metadata": {
            "tags": []
          },
          "execution_count": 20
        }
      ]
    },
    {
      "cell_type": "code",
      "metadata": {
        "id": "eDMb-8PsUQ2m",
        "colab_type": "code",
        "colab": {
          "base_uri": "https://localhost:8080/",
          "height": 212
        },
        "outputId": "ae4c8b10-c7e4-4e9c-c366-2015a041784b"
      },
      "source": [
        "# The % of null values\n",
        "\n",
        "(df.isnull().sum()/df.shape[0])*100"
      ],
      "execution_count": 24,
      "outputs": [
        {
          "output_type": "execute_result",
          "data": {
            "text/plain": [
              "user_gender        0.137824\n",
              "user_birthdate     0.000348\n",
              "user_residence    62.614419\n",
              "ride_date          0.000000\n",
              "time_start         0.000000\n",
              "time_end          15.064979\n",
              "station_start      0.000000\n",
              "station_end        0.000000\n",
              "ride_duration     25.467594\n",
              "ride_late         25.467594\n",
              "dtype: float64"
            ]
          },
          "metadata": {
            "tags": []
          },
          "execution_count": 24
        }
      ]
    },
    {
      "cell_type": "code",
      "metadata": {
        "id": "NO3LDtgxUvuH",
        "colab_type": "code",
        "colab": {
          "base_uri": "https://localhost:8080/",
          "height": 444
        },
        "outputId": "a2c9d125-90d4-49c4-d379-584b5abd6ed1"
      },
      "source": [
        "# Getting rid of the null values (.dropna())\n",
        "\n",
        "df_clean = df.dropna(subset=['user_residence'], axis=0)\n",
        "\n",
        "print(\"Before cleaning \\t{}\".format(df.isnull().sum()))\n",
        "print(\"After cleaning \\t{}\".format(df_clean.isnull().sum()))\n",
        "\n",
        "print(\"Another before cleaning {}\".format(df.shape))\n",
        "print(\"Another after cleaning {}\".format(df_clean.shape))\n",
        "\n"
      ],
      "execution_count": 31,
      "outputs": [
        {
          "output_type": "stream",
          "text": [
            "Before cleaning \tuser_gender          396\n",
            "user_birthdate         1\n",
            "user_residence    179905\n",
            "ride_date              0\n",
            "time_start             0\n",
            "time_end           43285\n",
            "station_start          0\n",
            "station_end            0\n",
            "ride_duration      73174\n",
            "ride_late          73174\n",
            "dtype: int64\n",
            "After cleaning \tuser_gender         309\n",
            "user_birthdate        1\n",
            "user_residence        0\n",
            "ride_date             0\n",
            "time_start            0\n",
            "time_end          16473\n",
            "station_start         0\n",
            "station_end           0\n",
            "ride_duration     21423\n",
            "ride_late         21423\n",
            "dtype: int64\n",
            "Another before cleaning (287322, 10)\n",
            "Another after cleaning (107417, 10)\n"
          ],
          "name": "stdout"
        }
      ]
    },
    {
      "cell_type": "code",
      "metadata": {
        "id": "NOybv1GtXcHp",
        "colab_type": "code",
        "colab": {
          "base_uri": "https://localhost:8080/",
          "height": 212
        },
        "outputId": "0c62de31-2c27-4fc4-c147-c17291237adf"
      },
      "source": [
        "# Filling up the null values\n",
        "\n",
        "df_clean.isnull().sum()"
      ],
      "execution_count": 33,
      "outputs": [
        {
          "output_type": "execute_result",
          "data": {
            "text/plain": [
              "user_gender         309\n",
              "user_birthdate        1\n",
              "user_residence        0\n",
              "ride_date             0\n",
              "time_start            0\n",
              "time_end          16473\n",
              "station_start         0\n",
              "station_end           0\n",
              "ride_duration     21423\n",
              "ride_late         21423\n",
              "dtype: int64"
            ]
          },
          "metadata": {
            "tags": []
          },
          "execution_count": 33
        }
      ]
    },
    {
      "cell_type": "code",
      "metadata": {
        "id": "dVdA6e2GZdPw",
        "colab_type": "code",
        "colab": {
          "base_uri": "https://localhost:8080/",
          "height": 212
        },
        "outputId": "2b1cd8fb-97c6-48ff-c6de-5ee263c79e0c"
      },
      "source": [
        "# Filling up the null values (fillna())\n",
        "\n",
        "rd_median = df_clean.ride_duration.median()\n",
        "\n",
        "df_clean = df.fillna({\"ride_duration\" : rd_median})\n",
        "\n",
        "df_clean.isnull().sum()"
      ],
      "execution_count": 38,
      "outputs": [
        {
          "output_type": "execute_result",
          "data": {
            "text/plain": [
              "user_gender          396\n",
              "user_birthdate         1\n",
              "user_residence    179905\n",
              "ride_date              0\n",
              "time_start             0\n",
              "time_end           43285\n",
              "station_start          0\n",
              "station_end            0\n",
              "ride_duration          0\n",
              "ride_late          73174\n",
              "dtype: int64"
            ]
          },
          "metadata": {
            "tags": []
          },
          "execution_count": 38
        }
      ]
    },
    {
      "cell_type": "code",
      "metadata": {
        "id": "zg2T20VSbIKg",
        "colab_type": "code",
        "colab": {
          "base_uri": "https://localhost:8080/",
          "height": 70
        },
        "outputId": "2b9acd7f-a33a-42a2-e687-271d25fcba64"
      },
      "source": [
        "# See the most commun values\n",
        "\n",
        "df_clean.user_gender.value_counts()"
      ],
      "execution_count": 39,
      "outputs": [
        {
          "output_type": "execute_result",
          "data": {
            "text/plain": [
              "M    212608\n",
              "F     74318\n",
              "Name: user_gender, dtype: int64"
            ]
          },
          "metadata": {
            "tags": []
          },
          "execution_count": 39
        }
      ]
    },
    {
      "cell_type": "code",
      "metadata": {
        "id": "FUlYujoUbYSl",
        "colab_type": "code",
        "colab": {
          "base_uri": "https://localhost:8080/",
          "height": 212
        },
        "outputId": "0f0350f0-e902-4c6d-d59e-ac89226d9574"
      },
      "source": [
        "# Filling up the null values with \"M\"\n",
        "\n",
        "df_clean = df_clean.fillna({\"user_gender\" : \"M\"})\n",
        "\n",
        "df_clean.isnull().sum()"
      ],
      "execution_count": 41,
      "outputs": [
        {
          "output_type": "execute_result",
          "data": {
            "text/plain": [
              "user_gender            0\n",
              "user_birthdate         1\n",
              "user_residence    179905\n",
              "ride_date              0\n",
              "time_start             0\n",
              "time_end           43285\n",
              "station_start          0\n",
              "station_end            0\n",
              "ride_duration          0\n",
              "ride_late          73174\n",
              "dtype: int64"
            ]
          },
          "metadata": {
            "tags": []
          },
          "execution_count": 41
        }
      ]
    }
  ]
}