{
  "nbformat": 4,
  "nbformat_minor": 0,
  "metadata": {
    "colab": {
      "name": "Untitled33.ipynb",
      "provenance": [],
      "authorship_tag": "ABX9TyOtHfYf+b2lAtbeF7u+8z42",
      "include_colab_link": true
    },
    "kernelspec": {
      "name": "python3",
      "display_name": "Python 3"
    }
  },
  "cells": [
    {
      "cell_type": "markdown",
      "metadata": {
        "id": "view-in-github",
        "colab_type": "text"
      },
      "source": [
        "<a href=\"https://colab.research.google.com/github/JoaoSiqueiraDS/DS_Days/blob/October/code_wars_numbers_in_full.ipynb\" target=\"_parent\"><img src=\"https://colab.research.google.com/assets/colab-badge.svg\" alt=\"Open In Colab\"/></a>"
      ]
    },
    {
      "cell_type": "code",
      "metadata": {
        "id": "-rysK_mrvAce",
        "outputId": "027f4555-4d83-4c75-9586-f741a4f37899",
        "colab": {
          "base_uri": "https://localhost:8080/"
        }
      },
      "source": [
        "#KATA \n",
        "def parse_int(string):\n",
        "    #Create a list with numerals\n",
        "    dict1 = {\"zero\": 0, \"one\": 1, \"two\": 2, \"three\":3, \"four\": 4,\n",
        "            \"five\": 5, \"six\": 6, \"seven\": 7, \"eight\": 8, \"nine\":9 }\n",
        "    list1 = dict1.keys() \n",
        "    \n",
        "    # if string is from 0 untill 9\n",
        "    for i in list1: \n",
        "      if string == i:\n",
        "        for i in dict1:\n",
        "          if i == string:\n",
        "            return dict1.get(i)\n",
        "    \n",
        "    \n",
        "\n",
        "\n",
        "parse_int(\"six\")"
      ],
      "execution_count": 67,
      "outputs": [
        {
          "output_type": "execute_result",
          "data": {
            "text/plain": [
              "6"
            ]
          },
          "metadata": {
            "tags": []
          },
          "execution_count": 67
        }
      ]
    },
    {
      "cell_type": "code",
      "metadata": {
        "id": "EWA5BPvovcZl"
      },
      "source": [
        "def test(string):\n",
        "  dict1 = {\"zero\": 0, \"one\": 1, \"two\": 2, \"three\":3, \"four\": 4,\n",
        "            \"five\": 5, \"six\": 6, \"seven\": 7, \"eight\": 8, \"nine\":9 }\n",
        "\n",
        "  if len(string) == 1:\n",
        "    for i in dict1:\n",
        "      if i == string:\n",
        "        return (dict1.get(i))\n",
        "\n"
      ],
      "execution_count": 61,
      "outputs": []
    },
    {
      "cell_type": "code",
      "metadata": {
        "id": "JBzUtGahD5QP",
        "outputId": "310fc4bd-b26c-41fe-d173-0123088c2066",
        "colab": {
          "base_uri": "https://localhost:8080/"
        }
      },
      "source": [
        "string = \"one\"\n",
        "\n",
        "len(string)"
      ],
      "execution_count": 63,
      "outputs": [
        {
          "output_type": "execute_result",
          "data": {
            "text/plain": [
              "3"
            ]
          },
          "metadata": {
            "tags": []
          },
          "execution_count": 63
        }
      ]
    },
    {
      "cell_type": "code",
      "metadata": {
        "id": "Uq2sH4TvmkBD",
        "outputId": "0988432b-dbd9-4a3d-fff3-77aedf0519b4",
        "colab": {
          "base_uri": "https://localhost:8080/"
        }
      },
      "source": [
        "def parse_int(string):\n",
        "    #Create a list with numerals\n",
        "    dict1 = {\"zero\": 0, \"one\": 1, \"two\": 2, \"three\":3, \"four\": 4,\n",
        "            \"five\": 5, \"six\": 6, \"seven\": 7, \"eight\": 8, \"nine\":9, \"ten\": 10, \n",
        "             \"eleven\":11, \"twelve\": 12, \"thiteen\": 13, \"fourteen\":14, \"fifteen\":15,\n",
        "             \"sixteen\": 16, \"seventeen\": 17, \"eighteen\": 18, \"nineteen\":19, \"twenty\":20, \n",
        "            \"thirty\": 30, \"forty\": 40, \"fifty\": 50, \"sixty\": 60, \"seventy\": 70, \"eighty\": 80, \"ninety\":90, \n",
        "             \"hundred\": 100, \"thousand\":1000, \"million\":1000000}\n",
        "    #lista com dict1 keys\n",
        "    list1 = dict1.keys()\n",
        "         \n",
        "    # replace \"-\" for \" \"\n",
        "    #string = string.replace(\"and\", \"\")\n",
        "    string = string.replace(\"-\", \" \")\n",
        "    print(string)\n",
        "    \n",
        "    #make up a list from string\n",
        "    string_list = string.split(\" \")\n",
        "    \n",
        "\n",
        "    #remove \"and\"\n",
        "\n",
        "    for i in string_list:\n",
        "      if i == \"and\":\n",
        "        string_list.remove(i)\n",
        "\n",
        "    print(string_list)\n",
        "    print(len(string_list))\n",
        "    \n",
        "    #string_list with 1 term\n",
        "    if len(string_list) == 1:\n",
        "        return dict1.get(string_list[0])\n",
        "    #two terms\n",
        "    elif len(string_list) == 2:\n",
        "      if \"thousand\" in string or \"hundred\" in string:\n",
        "        return dict1.get(string_list[0]) * dict1.get(string_list[1])\n",
        "      else:\n",
        "        return dict1.get(string_list[0]) + dict1.get(string_list[1])\n",
        "    #three terms\n",
        "    elif len(string_list) == 3:\n",
        "      if \"thousand\" in string:\n",
        "        return (dict1.get(string_list[0]) + dict1.get(string_list[1]))*dict1.get(string_list[2])\n",
        "      else:\n",
        "        return dict1.get(string_list[0]) * dict1.get(string_list[1]) + dict1.get(string_list[2])\n",
        "    #four terms\n",
        "    elif len(string_list) == 4:\n",
        "      if \"thousand\" in string and \"hundred\" in string:\n",
        "        return (dict1.get(string_list[0]) * dict1.get(string_list[1]) + dict1.get(string_list[2])) * dict1.get(string_list[3])\n",
        "      else:\n",
        "        return dict1.get(string_list[0]) * dict1.get(string_list[1]) + dict1.get(string_list[2]) + dict1.get(string_list[3])\n",
        "    #five terms\n",
        "    elif len(string_list) == 5:\n",
        "      if \"thousand\" in string and \"hundred\" in string:\n",
        "        return (dict1.get(string_list[0]) * dict1.get(string_list[1]) + dict1.get(string_list[2]) + dict1.get(string_list[3]) ) * dict1.get(string_list[4])\n",
        "      else:  \n",
        "        return dict1.get(string_list[0]) * dict1.get(string_list[1]) + dict1.get(string_list[2]) * dict1.get(string_list[3]) + dict1.get(string_list[4]) \n",
        "    #six terms\n",
        "    elif len(string_list) == 6: \n",
        "      if \"thousand\" and \"hundred\" in string:\n",
        "        return (dict1.get(string_list[0]) * dict1.get(string_list[1]) + dict1.get(string_list[2]) + dict1.get(string_list[3]) ) * dict1.get(string_list[4]) + dict1.get(string_list[5])\n",
        "\n",
        "parse_int(\"thirty five thousand\")"
      ],
      "execution_count": 180,
      "outputs": [
        {
          "output_type": "stream",
          "text": [
            "thirty five thousand\n",
            "['thirty', 'five', 'thousand']\n",
            "3\n"
          ],
          "name": "stdout"
        },
        {
          "output_type": "execute_result",
          "data": {
            "text/plain": [
              "35000"
            ]
          },
          "metadata": {
            "tags": []
          },
          "execution_count": 180
        }
      ]
    },
    {
      "cell_type": "code",
      "metadata": {
        "id": "TudY7y6HDjQT",
        "outputId": "82f86bba-f779-48d2-dea9-729af7e697d8",
        "colab": {
          "base_uri": "https://localhost:8080/"
        }
      },
      "source": [
        "string2 = \"two hundred forty six\"\n",
        "\n",
        "\"thousand\" and \"hundred\" in string2"
      ],
      "execution_count": 152,
      "outputs": [
        {
          "output_type": "execute_result",
          "data": {
            "text/plain": [
              "True"
            ]
          },
          "metadata": {
            "tags": []
          },
          "execution_count": 152
        }
      ]
    }
  ]
}