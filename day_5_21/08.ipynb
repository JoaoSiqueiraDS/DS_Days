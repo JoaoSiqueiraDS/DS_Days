{
  "nbformat": 4,
  "nbformat_minor": 0,
  "metadata": {
    "colab": {
      "name": "Untitled4.ipynb",
      "provenance": [],
      "authorship_tag": "ABX9TyM95FGYZlJIn0PZ+X9TZgVH",
      "include_colab_link": true
    },
    "kernelspec": {
      "name": "python3",
      "display_name": "Python 3"
    }
  },
  "cells": [
    {
      "cell_type": "markdown",
      "metadata": {
        "id": "view-in-github",
        "colab_type": "text"
      },
      "source": [
        "<a href=\"https://colab.research.google.com/github/JoaoSiqueiraDS/DS_Days/blob/master/day_5_21/08.ipynb\" target=\"_parent\"><img src=\"https://colab.research.google.com/assets/colab-badge.svg\" alt=\"Open In Colab\"/></a>"
      ]
    },
    {
      "cell_type": "markdown",
      "metadata": {
        "id": "rD0-hC5xjtgS",
        "colab_type": "text"
      },
      "source": [
        "#Numpy arrays\n",
        "\n"
      ]
    },
    {
      "cell_type": "code",
      "metadata": {
        "id": "LFvPx207j4B8",
        "colab_type": "code",
        "colab": {
          "base_uri": "https://localhost:8080/",
          "height": 35
        },
        "outputId": "31a77b27-5f84-47ff-ca48-732c5c984b1b"
      },
      "source": [
        "import numpy as np\n",
        "\n",
        "x = np.zeros(4)\n",
        "x\n",
        "\n",
        "y = np.array([1,2,3,4])\n",
        "y\n",
        "\n",
        "#Slicing\n",
        "\n",
        "X = np.array([[1,2,3], [4,5,6]])\n",
        "\n",
        "X[1,:]\n",
        "\n",
        "X[1,0:3]"
      ],
      "execution_count": 20,
      "outputs": [
        {
          "output_type": "execute_result",
          "data": {
            "text/plain": [
              "array([4, 5, 6])"
            ]
          },
          "metadata": {
            "tags": []
          },
          "execution_count": 20
        }
      ]
    },
    {
      "cell_type": "markdown",
      "metadata": {
        "id": "hrReqhneVi7A",
        "colab_type": "text"
      },
      "source": [
        "# Exploratory Data Analysis: A Practical Guide and Template for Structured Data\n",
        "\n",
        "* Common data types: categorical, numerical and datatime\n"
      ]
    },
    {
      "cell_type": "code",
      "metadata": {
        "id": "ac5E4DjYbf1v",
        "colab_type": "code",
        "colab": {}
      },
      "source": [
        "# generate count statistics of duplicate entries\n",
        "if len(df[df.duplicated()]) > 0:\n",
        "    print(\"No. of duplicated entries: \", len(df[df.duplicated()]))\n",
        "    print(df[df.duplicated(keep=False)].sort_values(by=list(df.columns)).head())\n",
        "else:\n",
        "    print(\"No duplicated entries found\")\n",
        "\n",
        "##############################################################\n",
        "\n",
        "# generate count statistics of duplicate entries\n",
        "if len(df[df.duplicated()]) > 0:\n",
        "    print(\"No. of duplicated entries: \", len(df[df.duplicated()]))\n",
        "    print(df[df.duplicated(keep=False)].sort_values(by=list(df.columns)).head())\n",
        "else:\n",
        "    print(\"No duplicated entries found\")\n",
        "\n",
        "##############################################################\n",
        "\n",
        "# Droping duplicated values\n",
        "\n",
        "df.drop_duplicates(inplace=True)\n",
        "\n"
      ],
      "execution_count": null,
      "outputs": []
    }
  ]
}