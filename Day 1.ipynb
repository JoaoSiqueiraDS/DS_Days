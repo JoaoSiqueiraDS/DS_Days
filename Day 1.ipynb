{
  "nbformat": 4,
  "nbformat_minor": 0,
  "metadata": {
    "colab": {
      "name": "Untitled",
      "provenance": [],
      "authorship_tag": "ABX9TyPhhv+MrOr+bExy+c4B9F92",
      "include_colab_link": true
    },
    "kernelspec": {
      "name": "python3",
      "display_name": "Python 3"
    }
  },
  "cells": [
    {
      "cell_type": "markdown",
      "metadata": {
        "id": "view-in-github",
        "colab_type": "text"
      },
      "source": [
        "<a href=\"https://colab.research.google.com/github/JoaoSiqueiraDS/DS_Days/blob/October/Day%201.ipynb\" target=\"_parent\"><img src=\"https://colab.research.google.com/assets/colab-badge.svg\" alt=\"Open In Colab\"/></a>"
      ]
    },
    {
      "cell_type": "code",
      "metadata": {
        "id": "VMf-OH1F4lUG",
        "outputId": "96a54311-bc62-4e04-b046-51ec98c89d69",
        "colab": {
          "base_uri": "https://localhost:8080/",
          "height": 88
        }
      },
      "source": [
        "import pandas as pd\n",
        "\n",
        "hamlets = pd.read_csv(\"https://www.dropbox.com/s/skws4ywetwcrxff/hamlets.csv?dl=1\", index_col=\"Unnamed: 0\")\n",
        "\n",
        "hamlets.head()\n",
        "\n",
        "hamlets.language"
      ],
      "execution_count": 3,
      "outputs": [
        {
          "output_type": "execute_result",
          "data": {
            "text/plain": [
              "1       English\n",
              "2        German\n",
              "3    Portuguese\n",
              "Name: language, dtype: object"
            ]
          },
          "metadata": {
            "tags": []
          },
          "execution_count": 3
        }
      ]
    },
    {
      "cell_type": "code",
      "metadata": {
        "id": "bvrHChWK6Yz1"
      },
      "source": [
        "import os \n",
        "import pandas as pd \n",
        "import numpy as np \n",
        "from collections import Counter\n",
        "\n",
        "\n",
        "def count_words_fast(text): \n",
        "    text = text.lower() \n",
        "    skips = [\".\", \",\", \";\", \":\", \"'\", '\"', \"\\n\", \"!\", \"?\", \"(\", \")\"] \n",
        "    for ch in skips: \n",
        "        text = text.replace(ch, \"\") \n",
        "    word_counts = Counter(text.split(\" \")) \n",
        "    return word_counts\n",
        "\n",
        "def word_stats(word_counts): \n",
        "    num_unique = len(word_counts) \n",
        "    counts = word_counts.values() \n",
        "    return (num_unique, counts)\n",
        " \n",
        "\n"
      ],
      "execution_count": 4,
      "outputs": []
    },
    {
      "cell_type": "code",
      "metadata": {
        "id": "_IBYKLGo6ooL",
        "outputId": "e3dd41bd-c08c-42f2-8c68-17d152c6350d",
        "colab": {
          "base_uri": "https://localhost:8080/",
          "height": 652
        }
      },
      "source": [
        "# Exercise 2\n",
        "\n",
        "language, text = hamlets.iloc[0]\n",
        "\n",
        "print(language)\n",
        "\n",
        "counted_text = count_words_fast(text)\n",
        "\n",
        "data = pd.DataFrame()\n",
        "\n",
        "word = counted_text.keys()\n",
        "\n",
        "count = counted_text.values()\n",
        "\n",
        "data[\"word\"] = word\n",
        "\n",
        "data[\"count\"] = count\n",
        "\n",
        "\n",
        "data.index[data.word == \"Hamlet\"]\n",
        "\n",
        "length = [len(i) for i in word]\n",
        "\n",
        "data[\"length\"] = length\n",
        "\n",
        "data.head()\n",
        "\n",
        "def names(x):\n",
        "  if x == 1:\n",
        "    return \"unique\"\n",
        "  elif x > 10:\n",
        "    return \"frequent\"\n",
        "  elif x <= 10:\n",
        "    return \"infrequent\"\n",
        "  \n",
        "    \n",
        "\n",
        "data[\"frequency\"] = [names(i) for i in count]\n",
        "\n",
        "data.head(20)\n",
        "\n",
        "#data[data[\"frequency\"]==\"unique\"].value_counts().sum()\n",
        "\n",
        "\n"
      ],
      "execution_count": 5,
      "outputs": [
        {
          "output_type": "stream",
          "text": [
            "English\n"
          ],
          "name": "stdout"
        },
        {
          "output_type": "execute_result",
          "data": {
            "text/html": [
              "<div>\n",
              "<style scoped>\n",
              "    .dataframe tbody tr th:only-of-type {\n",
              "        vertical-align: middle;\n",
              "    }\n",
              "\n",
              "    .dataframe tbody tr th {\n",
              "        vertical-align: top;\n",
              "    }\n",
              "\n",
              "    .dataframe thead th {\n",
              "        text-align: right;\n",
              "    }\n",
              "</style>\n",
              "<table border=\"1\" class=\"dataframe\">\n",
              "  <thead>\n",
              "    <tr style=\"text-align: right;\">\n",
              "      <th></th>\n",
              "      <th>word</th>\n",
              "      <th>count</th>\n",
              "      <th>length</th>\n",
              "      <th>frequency</th>\n",
              "    </tr>\n",
              "  </thead>\n",
              "  <tbody>\n",
              "    <tr>\n",
              "      <th>0</th>\n",
              "      <td>the</td>\n",
              "      <td>935</td>\n",
              "      <td>3</td>\n",
              "      <td>frequent</td>\n",
              "    </tr>\n",
              "    <tr>\n",
              "      <th>1</th>\n",
              "      <td>tragedie</td>\n",
              "      <td>3</td>\n",
              "      <td>8</td>\n",
              "      <td>infrequent</td>\n",
              "    </tr>\n",
              "    <tr>\n",
              "      <th>2</th>\n",
              "      <td>of</td>\n",
              "      <td>576</td>\n",
              "      <td>2</td>\n",
              "      <td>frequent</td>\n",
              "    </tr>\n",
              "    <tr>\n",
              "      <th>3</th>\n",
              "      <td>hamlet</td>\n",
              "      <td>97</td>\n",
              "      <td>6</td>\n",
              "      <td>frequent</td>\n",
              "    </tr>\n",
              "    <tr>\n",
              "      <th>4</th>\n",
              "      <td></td>\n",
              "      <td>45513</td>\n",
              "      <td>0</td>\n",
              "      <td>frequent</td>\n",
              "    </tr>\n",
              "    <tr>\n",
              "      <th>5</th>\n",
              "      <td>actus</td>\n",
              "      <td>2</td>\n",
              "      <td>5</td>\n",
              "      <td>infrequent</td>\n",
              "    </tr>\n",
              "    <tr>\n",
              "      <th>6</th>\n",
              "      <td>primus</td>\n",
              "      <td>1</td>\n",
              "      <td>6</td>\n",
              "      <td>unique</td>\n",
              "    </tr>\n",
              "    <tr>\n",
              "      <th>7</th>\n",
              "      <td>scoena</td>\n",
              "      <td>1</td>\n",
              "      <td>6</td>\n",
              "      <td>unique</td>\n",
              "    </tr>\n",
              "    <tr>\n",
              "      <th>8</th>\n",
              "      <td>prima</td>\n",
              "      <td>1</td>\n",
              "      <td>5</td>\n",
              "      <td>unique</td>\n",
              "    </tr>\n",
              "    <tr>\n",
              "      <th>9</th>\n",
              "      <td>enter</td>\n",
              "      <td>80</td>\n",
              "      <td>5</td>\n",
              "      <td>frequent</td>\n",
              "    </tr>\n",
              "    <tr>\n",
              "      <th>10</th>\n",
              "      <td>barnardo</td>\n",
              "      <td>8</td>\n",
              "      <td>8</td>\n",
              "      <td>infrequent</td>\n",
              "    </tr>\n",
              "    <tr>\n",
              "      <th>11</th>\n",
              "      <td>and</td>\n",
              "      <td>823</td>\n",
              "      <td>3</td>\n",
              "      <td>frequent</td>\n",
              "    </tr>\n",
              "    <tr>\n",
              "      <th>12</th>\n",
              "      <td>francisco</td>\n",
              "      <td>1</td>\n",
              "      <td>9</td>\n",
              "      <td>unique</td>\n",
              "    </tr>\n",
              "    <tr>\n",
              "      <th>13</th>\n",
              "      <td>two</td>\n",
              "      <td>20</td>\n",
              "      <td>3</td>\n",
              "      <td>frequent</td>\n",
              "    </tr>\n",
              "    <tr>\n",
              "      <th>14</th>\n",
              "      <td>centinels</td>\n",
              "      <td>1</td>\n",
              "      <td>9</td>\n",
              "      <td>unique</td>\n",
              "    </tr>\n",
              "    <tr>\n",
              "      <th>15</th>\n",
              "      <td>whos</td>\n",
              "      <td>2</td>\n",
              "      <td>4</td>\n",
              "      <td>infrequent</td>\n",
              "    </tr>\n",
              "    <tr>\n",
              "      <th>16</th>\n",
              "      <td>there</td>\n",
              "      <td>70</td>\n",
              "      <td>5</td>\n",
              "      <td>frequent</td>\n",
              "    </tr>\n",
              "    <tr>\n",
              "      <th>17</th>\n",
              "      <td>fran</td>\n",
              "      <td>8</td>\n",
              "      <td>4</td>\n",
              "      <td>infrequent</td>\n",
              "    </tr>\n",
              "    <tr>\n",
              "      <th>18</th>\n",
              "      <td>nay</td>\n",
              "      <td>26</td>\n",
              "      <td>3</td>\n",
              "      <td>frequent</td>\n",
              "    </tr>\n",
              "    <tr>\n",
              "      <th>19</th>\n",
              "      <td>answer</td>\n",
              "      <td>9</td>\n",
              "      <td>6</td>\n",
              "      <td>infrequent</td>\n",
              "    </tr>\n",
              "  </tbody>\n",
              "</table>\n",
              "</div>"
            ],
            "text/plain": [
              "         word  count  length   frequency\n",
              "0         the    935       3    frequent\n",
              "1    tragedie      3       8  infrequent\n",
              "2          of    576       2    frequent\n",
              "3      hamlet     97       6    frequent\n",
              "4              45513       0    frequent\n",
              "5       actus      2       5  infrequent\n",
              "6      primus      1       6      unique\n",
              "7      scoena      1       6      unique\n",
              "8       prima      1       5      unique\n",
              "9       enter     80       5    frequent\n",
              "10   barnardo      8       8  infrequent\n",
              "11        and    823       3    frequent\n",
              "12  francisco      1       9      unique\n",
              "13        two     20       3    frequent\n",
              "14  centinels      1       9      unique\n",
              "15       whos      2       4  infrequent\n",
              "16      there     70       5    frequent\n",
              "17       fran      8       4  infrequent\n",
              "18        nay     26       3    frequent\n",
              "19     answer      9       6  infrequent"
            ]
          },
          "metadata": {
            "tags": []
          },
          "execution_count": 5
        }
      ]
    },
    {
      "cell_type": "code",
      "metadata": {
        "id": "lkZOLUEAao9r",
        "outputId": "a243d17e-e548-4300-feb0-298a23bf1f1d",
        "colab": {
          "base_uri": "https://localhost:8080/",
          "height": 164
        }
      },
      "source": [
        "sub_data = pd.DataFrame({\"language\": language, \"frequency\": [\"frequent\", \"infrequent\", \"unique\"],\n",
        "                         \"mean_word_length\": data.groupby(by=\"frequency\")[\"length\"].mean(), \"num_words\": data.groupby(by= \"frequency\").size()})\n",
        "\n",
        "sub_data\n",
        "\n"
      ],
      "execution_count": 10,
      "outputs": [
        {
          "output_type": "execute_result",
          "data": {
            "text/html": [
              "<div>\n",
              "<style scoped>\n",
              "    .dataframe tbody tr th:only-of-type {\n",
              "        vertical-align: middle;\n",
              "    }\n",
              "\n",
              "    .dataframe tbody tr th {\n",
              "        vertical-align: top;\n",
              "    }\n",
              "\n",
              "    .dataframe thead th {\n",
              "        text-align: right;\n",
              "    }\n",
              "</style>\n",
              "<table border=\"1\" class=\"dataframe\">\n",
              "  <thead>\n",
              "    <tr style=\"text-align: right;\">\n",
              "      <th></th>\n",
              "      <th>language</th>\n",
              "      <th>frequency</th>\n",
              "      <th>mean_word_length</th>\n",
              "      <th>num_words</th>\n",
              "    </tr>\n",
              "    <tr>\n",
              "      <th>frequency</th>\n",
              "      <th></th>\n",
              "      <th></th>\n",
              "      <th></th>\n",
              "      <th></th>\n",
              "    </tr>\n",
              "  </thead>\n",
              "  <tbody>\n",
              "    <tr>\n",
              "      <th>frequent</th>\n",
              "      <td>English</td>\n",
              "      <td>frequent</td>\n",
              "      <td>4.371517</td>\n",
              "      <td>323</td>\n",
              "    </tr>\n",
              "    <tr>\n",
              "      <th>infrequent</th>\n",
              "      <td>English</td>\n",
              "      <td>infrequent</td>\n",
              "      <td>5.825243</td>\n",
              "      <td>1442</td>\n",
              "    </tr>\n",
              "    <tr>\n",
              "      <th>unique</th>\n",
              "      <td>English</td>\n",
              "      <td>unique</td>\n",
              "      <td>7.005675</td>\n",
              "      <td>3348</td>\n",
              "    </tr>\n",
              "  </tbody>\n",
              "</table>\n",
              "</div>"
            ],
            "text/plain": [
              "           language   frequency  mean_word_length  num_words\n",
              "frequency                                                   \n",
              "frequent    English    frequent          4.371517        323\n",
              "infrequent  English  infrequent          5.825243       1442\n",
              "unique      English      unique          7.005675       3348"
            ]
          },
          "metadata": {
            "tags": []
          },
          "execution_count": 10
        }
      ]
    },
    {
      "cell_type": "code",
      "metadata": {
        "id": "GVrfz6XhGY-7",
        "outputId": "ca1313cf-76bd-431f-9c29-ba5e57cb7389",
        "colab": {
          "base_uri": "https://localhost:8080/",
          "height": 135
        }
      },
      "source": [
        "# Exercise 5\n",
        "\n",
        "def summarize_text(language, text):\n",
        "    counted_text = count_words_fast(text)\n",
        "\n",
        "    data = pd.DataFrame({\n",
        "        \"word\": list(counted_text.keys()),\n",
        "        \"count\": list(counted_text.values())\n",
        "    })\n",
        "    \n",
        "    data.loc[data[\"count\"] > 10,  \"frequency\"] = \"frequent\"\n",
        "    data.loc[data[\"count\"] <= 10, \"frequency\"] = \"infrequent\"\n",
        "    data.loc[data[\"count\"] == 1,  \"frequency\"] = \"unique\"\n",
        "    \n",
        "    data[\"length\"] = data[\"word\"].apply(len)\n",
        "    \n",
        "    sub_data = pd.DataFrame({\n",
        "        \"language\": language,\n",
        "        \"frequency\": [\"frequent\",\"infrequent\",\"unique\"],\n",
        "        \"mean_word_length\": data.groupby(by = \"frequency\")[\"length\"].mean(),\n",
        "        \"num_words\": data.groupby(by = \"frequency\").size()\n",
        "    })\n",
        "    \n",
        "    return(sub_data)\n",
        "\n",
        "hamlets.head()\n",
        "\n"
      ],
      "execution_count": 11,
      "outputs": [
        {
          "output_type": "execute_result",
          "data": {
            "text/html": [
              "<div>\n",
              "<style scoped>\n",
              "    .dataframe tbody tr th:only-of-type {\n",
              "        vertical-align: middle;\n",
              "    }\n",
              "\n",
              "    .dataframe tbody tr th {\n",
              "        vertical-align: top;\n",
              "    }\n",
              "\n",
              "    .dataframe thead th {\n",
              "        text-align: right;\n",
              "    }\n",
              "</style>\n",
              "<table border=\"1\" class=\"dataframe\">\n",
              "  <thead>\n",
              "    <tr style=\"text-align: right;\">\n",
              "      <th></th>\n",
              "      <th>language</th>\n",
              "      <th>text</th>\n",
              "    </tr>\n",
              "  </thead>\n",
              "  <tbody>\n",
              "    <tr>\n",
              "      <th>1</th>\n",
              "      <td>English</td>\n",
              "      <td>The Tragedie of Hamlet\\n                      ...</td>\n",
              "    </tr>\n",
              "    <tr>\n",
              "      <th>2</th>\n",
              "      <td>German</td>\n",
              "      <td>Hamlet, Prinz von Dännemark.\\n                ...</td>\n",
              "    </tr>\n",
              "    <tr>\n",
              "      <th>3</th>\n",
              "      <td>Portuguese</td>\n",
              "      <td>HAMLET\\n                             DRAMA EM ...</td>\n",
              "    </tr>\n",
              "  </tbody>\n",
              "</table>\n",
              "</div>"
            ],
            "text/plain": [
              "     language                                               text\n",
              "1     English  The Tragedie of Hamlet\\n                      ...\n",
              "2      German  Hamlet, Prinz von Dännemark.\\n                ...\n",
              "3  Portuguese  HAMLET\\n                             DRAMA EM ..."
            ]
          },
          "metadata": {
            "tags": []
          },
          "execution_count": 11
        }
      ]
    },
    {
      "cell_type": "code",
      "metadata": {
        "id": "TruafrSMJUJI"
      },
      "source": [
        "grouped_data = pd.DataFrame(columns = [\"language\", \"frequency\", \"mean_word_length\", \"num_words\"])\n",
        "\n",
        "for i in range(hamlets.shape[0]):\n",
        "    language, text = hamlets.iloc[i]\n",
        "    sub_data = summarize_text(language, text)\n",
        "    grouped_data = grouped_data.append(sub_data)"
      ],
      "execution_count": 14,
      "outputs": []
    },
    {
      "cell_type": "code",
      "metadata": {
        "id": "lSglNctoJBLF",
        "outputId": "f94818ed-62d4-4d9f-e96a-fa1dface9916",
        "colab": {
          "base_uri": "https://localhost:8080/",
          "height": 279
        }
      },
      "source": [
        "colors = {\"Portuguese\": \"green\", \"English\": \"blue\", \"German\": \"red\"}\n",
        "markers = {\"frequent\": \"o\",\"infrequent\": \"s\", \"unique\": \"^\"}\n",
        "import matplotlib.pyplot as plt\n",
        "for i in range(grouped_data.shape[0]):\n",
        "    row = grouped_data.iloc[i]\n",
        "    plt.plot(row.mean_word_length, row.num_words,\n",
        "        marker=markers[row.frequency],\n",
        "        color = colors[row.language],\n",
        "        markersize = 10\n",
        "    )\n",
        "\n",
        "color_legend = []\n",
        "marker_legend = []\n",
        "for color in colors:\n",
        "    color_legend.append(\n",
        "        plt.plot([], [],\n",
        "        color=colors[color],\n",
        "        marker=\"o\",\n",
        "        label = color, markersize = 10, linestyle=\"None\")\n",
        "    )\n",
        "for marker in markers:\n",
        "    marker_legend.append(\n",
        "        plt.plot([], [],\n",
        "        color=\"k\",\n",
        "        marker=markers[marker],\n",
        "        label = marker, markersize = 10, linestyle=\"None\")\n",
        "    )\n",
        "plt.legend(numpoints=1, loc = \"upper left\")\n",
        "\n",
        "plt.xlabel(\"Mean Word Length\")\n",
        "plt.ylabel(\"Number of Words\")\n",
        "\n",
        "plt.show()"
      ],
      "execution_count": 16,
      "outputs": [
        {
          "output_type": "display_data",
          "data": {
            "image/png": "[encoded data removed]",
            "text/plain": [
              "<Figure size 432x288 with 1 Axes>"
            ]
          },
          "metadata": {
            "tags": [],
            "needs_background": "light"
          }
        }
      ]
    }
  ]
}