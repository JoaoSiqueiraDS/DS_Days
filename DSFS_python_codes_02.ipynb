{
  "nbformat": 4,
  "nbformat_minor": 0,
  "metadata": {
    "colab": {
      "name": "Untitled54.ipynb",
      "provenance": [],
      "authorship_tag": "ABX9TyPF6nVsxDquaTZQuGvSqJRT",
      "include_colab_link": true
    },
    "kernelspec": {
      "name": "python3",
      "display_name": "Python 3"
    },
    "language_info": {
      "name": "python"
    }
  },
  "cells": [
    {
      "cell_type": "markdown",
      "metadata": {
        "id": "view-in-github",
        "colab_type": "text"
      },
      "source": [
        "<a href=\"https://colab.research.google.com/github/JoaoSiqueiraDS/DS_Days/blob/May_2021/DSFS_python_codes_02.ipynb\" target=\"_parent\"><img src=\"https://colab.research.google.com/assets/colab-badge.svg\" alt=\"Open In Colab\"/></a>"
      ]
    },
    {
      "cell_type": "code",
      "metadata": {
        "colab": {
          "base_uri": "https://localhost:8080/"
        },
        "id": "aSIJpeA8XNwI",
        "outputId": "17487402-c3b5-4802-def0-329b7903cce2"
      },
      "source": [
        "interests = [\n",
        "(0, \"Hadoop\"), (0, \"Big Data\"), (0, \"HBase\"), (0, \"Java\"),\n",
        "(0, \"Spark\"), (0, \"Storm\"), (0, \"Cassandra\"),\n",
        "(1, \"NoSQL\"), (1, \"MongoDB\"), (1, \"Cassandra\"), (1, \"HBase\"),\n",
        "(1, \"Postgres\"), (2, \"Python\"), (2, \"scikit-learn\"), (2, \"scipy\"),\n",
        "(2, \"numpy\"), (2, \"statsmodels\"), (2, \"pandas\"), (3, \"R\"), (3, \"Python\"),\n",
        "(3, \"statistics\"), (3, \"regression\"), (3, \"probability\"),\n",
        "(4, \"machine learning\"), (4, \"regression\"), (4, \"decision trees\"),\n",
        "(4, \"libsvm\"), (5, \"Python\"), (5, \"R\"), (5, \"Java\"), (5, \"C++\"),\n",
        "(5, \"Haskell\"), (5, \"programming languages\"), (6, \"statistics\"),\n",
        "(6, \"probability\"), (6, \"mathematics\"), (6, \"theory\"),\n",
        "(7, \"machine learning\"), (7, \"scikit-learn\"), (7, \"Mahout\"),\n",
        "(7, \"neural networks\"), (8, \"neural networks\"), (8, \"deep learning\"),\n",
        "(8, \"Big Data\"), (8, \"artificial intelligence\"), (9, \"Hadoop\"),\n",
        "(9, \"Java\"), (9, \"MapReduce\"), (9, \"Big Data\")\n",
        "]\n",
        "\n",
        "def data_scientists_who_like(target_interest):\n",
        "  \"\"\"Find the ids of all users who like the target interest.\"\"\"\n",
        "  return [user_id\n",
        "  for user_id, user_interest in interests\n",
        "  if user_interest == target_interest]\n",
        "\n",
        "print(data_scientists_who_like(\"Python\"))"
      ],
      "execution_count": 6,
      "outputs": [
        {
          "output_type": "stream",
          "text": [
            "[2, 3, 5]\n"
          ],
          "name": "stdout"
        }
      ]
    }
  ]
}