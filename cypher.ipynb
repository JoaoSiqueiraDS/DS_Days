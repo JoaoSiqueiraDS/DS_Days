{
  "nbformat": 4,
  "nbformat_minor": 0,
  "metadata": {
    "colab": {
      "name": "Untitled20.ipynb",
      "provenance": [],
      "authorship_tag": "ABX9TyOCwyR3YwpndjPBzvKqp8Ty",
      "include_colab_link": true
    },
    "kernelspec": {
      "name": "python3",
      "display_name": "Python 3"
    }
  },
  "cells": [
    {
      "cell_type": "markdown",
      "metadata": {
        "id": "view-in-github",
        "colab_type": "text"
      },
      "source": [
        "<a href=\"https://colab.research.google.com/github/JoaoSiqueiraDS/DS_Days/blob/September/cypher.ipynb\" target=\"_parent\"><img src=\"https://colab.research.google.com/assets/colab-badge.svg\" alt=\"Open In Colab\"/></a>"
      ]
    },
    {
      "cell_type": "markdown",
      "metadata": {
        "id": "KJnHwKybTfKy",
        "colab_type": "text"
      },
      "source": [
        "#Cypher decription code program"
      ]
    },
    {
      "cell_type": "code",
      "metadata": {
        "id": "0sBh52qGTlw1",
        "colab_type": "code",
        "colab": {
          "base_uri": "https://localhost:8080/",
          "height": 417
        },
        "outputId": "dd38b2d8-b119-4916-dd81-b30af4f18658"
      },
      "source": [
        "message = \"hi my name is caesar\"\n",
        "\n",
        "def encoding(message, key):\n",
        "\n",
        "  import string\n",
        "\n",
        "  alphabet = \" \" + string.ascii_lowercase\n",
        "  alphabet2 = (\" \" + string.ascii_lowercase)*key\n",
        "  print(alphabet2)\n",
        "\n",
        "  positions = {}\n",
        "  positions2 = {}\n",
        "  positions3 = {}\n",
        "\n",
        "  for i in range(len(alphabet)):\n",
        "    positions[alphabet[i]] = i\n",
        "    positions2[i] = alphabet[i]\n",
        "    positions3[i] = alphabet2[i]\n",
        "  \n",
        "  #def encoded_message(message):\n",
        "  msg1 = [i for i in message]\n",
        "  list1 = []\n",
        "  print(msg1)\n",
        "  for i in range(len(message)):\n",
        "    list1.append(positions[msg1[i]])\n",
        "  print(list1)\n",
        "  list2 = []\n",
        "  for i in list1:\n",
        "    if positions3[i+key] > \"z\":\n",
        "      list2.append(positions3[i+key])\n",
        "    else:\n",
        "      list2.append(positions2[i+key])\n",
        "  return \"\".join(list2)\n",
        "\n",
        "x = encoding(message,2)\n",
        "\n",
        "print(x)\n",
        "\n"
      ],
      "execution_count": 83,
      "outputs": [
        {
          "output_type": "stream",
          "text": [
            " abcdefghijklmnopqrstuvwxyz abcdefghijklmnopqrstuvwxyz\n",
            "['h', 'i', ' ', 'm', 'y', ' ', 'n', 'a', 'm', 'e', ' ', 'i', 's', ' ', 'c', 'a', 'e', 's', 'a', 'r']\n",
            "[8, 9, 0, 13, 25, 0, 14, 1, 13, 5, 0, 9, 19, 0, 3, 1, 5, 19, 1, 18]\n"
          ],
          "name": "stdout"
        },
        {
          "output_type": "error",
          "ename": "KeyError",
          "evalue": "ignored",
          "traceback": [
            "\u001b[0;31m---------------------------------------------------------------------------\u001b[0m",
            "\u001b[0;31mKeyError\u001b[0m                                  Traceback (most recent call last)",
            "\u001b[0;32m<ipython-input-83-58f9b23124b9>\u001b[0m in \u001b[0;36m<module>\u001b[0;34m()\u001b[0m\n\u001b[1;32m     33\u001b[0m   \u001b[0;32mreturn\u001b[0m \u001b[0;34m\"\"\u001b[0m\u001b[0;34m.\u001b[0m\u001b[0mjoin\u001b[0m\u001b[0;34m(\u001b[0m\u001b[0mlist2\u001b[0m\u001b[0;34m)\u001b[0m\u001b[0;34m\u001b[0m\u001b[0;34m\u001b[0m\u001b[0m\n\u001b[1;32m     34\u001b[0m \u001b[0;34m\u001b[0m\u001b[0m\n\u001b[0;32m---> 35\u001b[0;31m \u001b[0mx\u001b[0m \u001b[0;34m=\u001b[0m \u001b[0mencoding\u001b[0m\u001b[0;34m(\u001b[0m\u001b[0mmessage\u001b[0m\u001b[0;34m,\u001b[0m\u001b[0;36m2\u001b[0m\u001b[0;34m)\u001b[0m\u001b[0;34m\u001b[0m\u001b[0;34m\u001b[0m\u001b[0m\n\u001b[0m\u001b[1;32m     36\u001b[0m \u001b[0;34m\u001b[0m\u001b[0m\n\u001b[1;32m     37\u001b[0m \u001b[0mprint\u001b[0m\u001b[0;34m(\u001b[0m\u001b[0mx\u001b[0m\u001b[0;34m)\u001b[0m\u001b[0;34m\u001b[0m\u001b[0;34m\u001b[0m\u001b[0m\n",
            "\u001b[0;32m<ipython-input-83-58f9b23124b9>\u001b[0m in \u001b[0;36mencoding\u001b[0;34m(message, key)\u001b[0m\n\u001b[1;32m     27\u001b[0m   \u001b[0mlist2\u001b[0m \u001b[0;34m=\u001b[0m \u001b[0;34m[\u001b[0m\u001b[0;34m]\u001b[0m\u001b[0;34m\u001b[0m\u001b[0;34m\u001b[0m\u001b[0m\n\u001b[1;32m     28\u001b[0m   \u001b[0;32mfor\u001b[0m \u001b[0mi\u001b[0m \u001b[0;32min\u001b[0m \u001b[0mlist1\u001b[0m\u001b[0;34m:\u001b[0m\u001b[0;34m\u001b[0m\u001b[0;34m\u001b[0m\u001b[0m\n\u001b[0;32m---> 29\u001b[0;31m     \u001b[0;32mif\u001b[0m \u001b[0mpositions3\u001b[0m\u001b[0;34m[\u001b[0m\u001b[0mi\u001b[0m\u001b[0;34m+\u001b[0m\u001b[0mkey\u001b[0m\u001b[0;34m]\u001b[0m \u001b[0;34m>\u001b[0m \u001b[0;34m\"z\"\u001b[0m\u001b[0;34m:\u001b[0m\u001b[0;34m\u001b[0m\u001b[0;34m\u001b[0m\u001b[0m\n\u001b[0m\u001b[1;32m     30\u001b[0m       \u001b[0mlist2\u001b[0m\u001b[0;34m.\u001b[0m\u001b[0mappend\u001b[0m\u001b[0;34m(\u001b[0m\u001b[0mpositions3\u001b[0m\u001b[0;34m[\u001b[0m\u001b[0mi\u001b[0m\u001b[0;34m+\u001b[0m\u001b[0mkey\u001b[0m\u001b[0;34m]\u001b[0m\u001b[0;34m)\u001b[0m\u001b[0;34m\u001b[0m\u001b[0;34m\u001b[0m\u001b[0m\n\u001b[1;32m     31\u001b[0m     \u001b[0;32melse\u001b[0m\u001b[0;34m:\u001b[0m\u001b[0;34m\u001b[0m\u001b[0;34m\u001b[0m\u001b[0m\n",
            "\u001b[0;31mKeyError\u001b[0m: 27"
          ]
        }
      ]
    },
    {
      "cell_type": "code",
      "metadata": {
        "id": "L4DvOndy-vkT",
        "colab_type": "code",
        "colab": {
          "base_uri": "https://localhost:8080/",
          "height": 35
        },
        "outputId": "91fb4f08-726c-4d02-a8bc-33bbee322601"
      },
      "source": [
        "\n",
        "\n",
        "message = \"hi my name is caesar\"\n",
        "\n",
        "def encoding(message, key):\n",
        "\n",
        "  import string\n",
        "\n",
        "  alphabet = \" \" + string.ascii_lowercase\n",
        "\n",
        "  positions = {}\n",
        "  positions2 = {}\n",
        "\n",
        "  for i in range(len(alphabet)):\n",
        "    positions[alphabet[i]] = i\n",
        "    positions2[i] = alphabet[i]\n",
        "\n",
        "  def encoding_message(message):\n",
        "    msg1 = [i for i in message]\n",
        "    list1 = []\n",
        "    print(msg1)\n",
        "    for i in range(len(message)):\n",
        "      list1.append(positions[msg1[i]])\n",
        "    list2 = []\n",
        "    for i in list1:\n",
        "      list2.append(positions2[i+key])\n",
        "    return \"\".join(list2)\n",
        "\n",
        "encod_message = encoding(message, 1)\n",
        "\n",
        "print(encod_message)\n",
        "\n"
      ],
      "execution_count": 56,
      "outputs": [
        {
          "output_type": "stream",
          "text": [
            "None\n"
          ],
          "name": "stdout"
        }
      ]
    }
  ]
}