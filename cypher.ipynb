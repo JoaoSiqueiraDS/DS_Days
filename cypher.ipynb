{
  "nbformat": 4,
  "nbformat_minor": 0,
  "metadata": {
    "colab": {
      "name": "Untitled20.ipynb",
      "provenance": [],
      "authorship_tag": "ABX9TyMu1zTg6VeXdpJ4bNZ2HPQ1",
      "include_colab_link": true
    },
    "kernelspec": {
      "name": "python3",
      "display_name": "Python 3"
    }
  },
  "cells": [
    {
      "cell_type": "markdown",
      "metadata": {
        "id": "view-in-github",
        "colab_type": "text"
      },
      "source": [
        "<a href=\"https://colab.research.google.com/github/JoaoSiqueiraDS/DS_Days/blob/September/cypher.ipynb\" target=\"_parent\"><img src=\"https://colab.research.google.com/assets/colab-badge.svg\" alt=\"Open In Colab\"/></a>"
      ]
    },
    {
      "cell_type": "markdown",
      "metadata": {
        "id": "KJnHwKybTfKy",
        "colab_type": "text"
      },
      "source": [
        "#Cypher decription code program"
      ]
    },
    {
      "cell_type": "code",
      "metadata": {
        "id": "L4DvOndy-vkT",
        "colab_type": "code",
        "colab": {
          "base_uri": "https://localhost:8080/",
          "height": 53
        },
        "outputId": "3c401c7a-a95c-45d9-a2b5-fa8b738d4c8c"
      },
      "source": [
        "\n",
        "\n",
        "message = \"qevbdmdpszidbsy\"\n",
        "\n",
        "def encoding(message, key):\n",
        "\n",
        "  import string\n",
        "\n",
        "  alphabet = \" \" + string.ascii_lowercase\n",
        "\n",
        "  positions = {}\n",
        "  positions2 = {}\n",
        "\n",
        "  for i in range(len(alphabet)):\n",
        "    positions[alphabet[i]] = i\n",
        "    positions2[i] = alphabet[i]\n",
        "\n",
        "  msg1 = [i for i in message]\n",
        "  list1 = []\n",
        "  print(msg1)\n",
        "  for i in range(len(message)):\n",
        "    list1.append(positions[msg1[i]])\n",
        "  list2 = []\n",
        "  for i in list1:\n",
        "    list2.append(positions2[(i+key)%27])\n",
        "  return \"\".join(list2)\n",
        "\n",
        "encoding(message, -4)\n",
        "\n",
        "\n",
        "\n",
        "\n",
        "\n"
      ],
      "execution_count": 29,
      "outputs": [
        {
          "output_type": "stream",
          "text": [
            "['q', 'e', 'v', 'b', 'd', 'm', 'd', 'p', 's', 'z', 'i', 'd', 'b', 's', 'y']\n"
          ],
          "name": "stdout"
        },
        {
          "output_type": "execute_result",
          "data": {
            "application/vnd.google.colaboratory.intrinsic+json": {
              "type": "string"
            },
            "text/plain": [
              "'mary i love you'"
            ]
          },
          "metadata": {
            "tags": []
          },
          "execution_count": 29
        }
      ]
    },
    {
      "cell_type": "code",
      "metadata": {
        "id": "rPlBI1Bfcp8a",
        "colab_type": "code",
        "colab": {
          "base_uri": "https://localhost:8080/",
          "height": 35
        },
        "outputId": "4047119b-f338-48c1-81cd-df52c6e987fb"
      },
      "source": [
        "klcpacqdphclvcfdhvdu"
      ],
      "execution_count": 8,
      "outputs": [
        {
          "output_type": "execute_result",
          "data": {
            "text/plain": [
              "0"
            ]
          },
          "metadata": {
            "tags": []
          },
          "execution_count": 8
        }
      ]
    }
  ]
}