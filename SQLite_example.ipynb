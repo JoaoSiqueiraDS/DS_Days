{
  "nbformat": 4,
  "nbformat_minor": 0,
  "metadata": {
    "colab": {
      "name": "Untitled52.ipynb",
      "provenance": [],
      "authorship_tag": "ABX9TyPGYB6jbkmgfIr2nlhIrIlY",
      "include_colab_link": true
    },
    "kernelspec": {
      "name": "python3",
      "display_name": "Python 3"
    },
    "language_info": {
      "name": "python"
    }
  },
  "cells": [
    {
      "cell_type": "markdown",
      "metadata": {
        "id": "view-in-github",
        "colab_type": "text"
      },
      "source": [
        "<a href=\"https://colab.research.google.com/github/JoaoSiqueiraDS/DS_Days/blob/April_2021/SQLite_example.ipynb\" target=\"_parent\"><img src=\"https://colab.research.google.com/assets/colab-badge.svg\" alt=\"Open In Colab\"/></a>"
      ]
    },
    {
      "cell_type": "code",
      "metadata": {
        "colab": {
          "base_uri": "https://localhost:8080/"
        },
        "id": "tqWJSXngfAmr",
        "outputId": "54cc7e80-3b62-4aa6-f44f-687e2058c13c"
      },
      "source": [
        "import sqlite3\n",
        "\n",
        "from test_class_method import Employee2\n",
        "\n",
        "conn = sqlite3.connect(\":memory:\")\n",
        "\n",
        "c = conn.cursor()\n",
        "\n",
        "c.execute(\"\"\"CREATE TABLE employees(\n",
        "  first text,\n",
        "  last text,\n",
        "  pay integer)\"\"\")\n",
        "\n",
        "\n",
        "\n",
        "def insert_emp(emp):\n",
        "    with conn:\n",
        "      c.execute(\"INSERT INTO employees VALUES(:first, :last, :pay)\", \n",
        "         {'first': emp.first, \"last\":emp.last, \"pay\":emp.pay})\n",
        "\n",
        "\n",
        "def get_emps_by_name(lastname):\n",
        "    c.execute(\"SELECT * FROM employees WHERE last=:last\", {\"last\":lastname})\n",
        "    return c.fetchall()\n",
        "\n",
        "\n",
        "def update_pay(emp, pay):\n",
        "    with conn:\n",
        "        c.execute(\"\"\"UPDATE employees SET pay = :pay\n",
        "                    WHERE first = :first AND last = :last\"\"\",\n",
        "                  {'first': emp.first, 'last': emp.last, 'pay': pay})\n",
        "\n",
        "\n",
        "def remove_emp(emp):\n",
        "    with conn:\n",
        "        c.execute(\"DELETE from employees WHERE first = :first AND last = :last\",\n",
        "                  {'first': emp.first, 'last': emp.last})\n",
        "\n",
        "emp_1 = Employee2(\"John\", \"Doe\", 9000)\n",
        "emp_2 = Employee2(\"Jane\", \"Doe\", 10000)\n",
        "\n",
        "\n",
        "insert_emp(emp_1)\n",
        "insert_emp(emp_2)\n",
        "\n",
        "emps = get_emps_by_name(\"Doe\")\n",
        "print(emps)\n",
        "\n",
        "conn.close()\n",
        "\n",
        "\n"
      ],
      "execution_count": 49,
      "outputs": [
        {
          "output_type": "stream",
          "text": [
            "[('John', 'Doe', 9000), ('Jane', 'Doe', 10000)]\n"
          ],
          "name": "stdout"
        }
      ]
    }
  ]
}