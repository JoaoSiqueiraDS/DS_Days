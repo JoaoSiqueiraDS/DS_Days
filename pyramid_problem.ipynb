{
  "nbformat": 4,
  "nbformat_minor": 0,
  "metadata": {
    "colab": {
      "name": "Untitled27.ipynb",
      "provenance": [],
      "authorship_tag": "ABX9TyMvYRQLSjH7kj25DExLhHSN",
      "include_colab_link": true
    },
    "kernelspec": {
      "name": "python3",
      "display_name": "Python 3"
    }
  },
  "cells": [
    {
      "cell_type": "markdown",
      "metadata": {
        "id": "view-in-github",
        "colab_type": "text"
      },
      "source": [
        "<a href=\"https://colab.research.google.com/github/JoaoSiqueiraDS/DS_Days/blob/September/pyramid_problem.ipynb\" target=\"_parent\"><img src=\"https://colab.research.google.com/assets/colab-badge.svg\" alt=\"Open In Colab\"/></a>"
      ]
    },
    {
      "cell_type": "code",
      "metadata": {
        "id": "iO_UWkcTGCiL",
        "outputId": "f30c090f-e8b3-4905-afbd-3a1bdb1e5768",
        "colab": {
          "base_uri": "https://localhost:8080/",
          "height": 301
        }
      },
      "source": [
        "def longest_slide_down(pyramid):\n",
        "    lista = []\n",
        "    pyramid1 = pyramid[0]\n",
        "    lista.append(pyramid1[0])\n",
        "    count = 0\n",
        "    for i in pyramid[1::]:\n",
        "        if len(i)%2 == 0:\n",
        "          lista.append(i[int(len(i)/2)])\n",
        "        else:\n",
        "          lista.append(i[int(len(i)/2)+1])\n",
        "        count +=1\n",
        "        print(lista)\n",
        "    print(lista)\n",
        "    return sum(lista)\n",
        "\n",
        "pyramid = [\n",
        "            [75],\n",
        "            [95, 64],\n",
        "            [17, 47, 82],\n",
        "            [18, 35, 87, 10],\n",
        "            [20,  4, 82, 47, 65],\n",
        "            [19,  1, 23, 75,  3, 34],\n",
        "            [88,  2, 77, 73,  7, 63, 67],\n",
        "            [99, 65,  4, 28,  6, 16, 70, 92],\n",
        "            [41, 41, 26, 56, 83, 40, 80, 70, 33],\n",
        "            [41, 48, 72, 33, 47, 32, 37, 16, 94, 29],\n",
        "            [53, 71, 44, 65, 25, 43, 91, 52, 97, 51, 14],\n",
        "            [70, 11, 33, 28, 77, 73, 17, 78, 39, 68, 17, 57],\n",
        "            [91, 71, 52, 38, 17, 14, 91, 43, 58, 50, 27, 29, 48],\n",
        "            [63, 66,  4, 68, 89, 53, 67, 30, 73, 16, 69, 87, 40, 31],\n",
        "            [ 4, 62, 98, 27, 23,  9, 70, 98, 73, 93, 38, 53, 60,  4, 23],\n",
        "            ]\n",
        "\n",
        "longest_slide_down(pyramid)"
      ],
      "execution_count": 10,
      "outputs": [
        {
          "output_type": "stream",
          "text": [
            "[75, 64]\n",
            "[75, 64, 82]\n",
            "[75, 64, 82, 87]\n",
            "[75, 64, 82, 87, 47]\n",
            "[75, 64, 82, 87, 47, 75]\n",
            "[75, 64, 82, 87, 47, 75, 7]\n",
            "[75, 64, 82, 87, 47, 75, 7, 6]\n",
            "[75, 64, 82, 87, 47, 75, 7, 6, 40]\n",
            "[75, 64, 82, 87, 47, 75, 7, 6, 40, 32]\n",
            "[75, 64, 82, 87, 47, 75, 7, 6, 40, 32, 91]\n",
            "[75, 64, 82, 87, 47, 75, 7, 6, 40, 32, 91, 17]\n",
            "[75, 64, 82, 87, 47, 75, 7, 6, 40, 32, 91, 17, 43]\n",
            "[75, 64, 82, 87, 47, 75, 7, 6, 40, 32, 91, 17, 43, 30]\n",
            "[75, 64, 82, 87, 47, 75, 7, 6, 40, 32, 91, 17, 43, 30, 73]\n",
            "[75, 64, 82, 87, 47, 75, 7, 6, 40, 32, 91, 17, 43, 30, 73]\n"
          ],
          "name": "stdout"
        },
        {
          "output_type": "execute_result",
          "data": {
            "text/plain": [
              "769"
            ]
          },
          "metadata": {
            "tags": []
          },
          "execution_count": 10
        }
      ]
    }
  ]
}