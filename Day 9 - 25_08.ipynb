{
  "nbformat": 4,
  "nbformat_minor": 0,
  "metadata": {
    "colab": {
      "name": "Untitled6.ipynb",
      "provenance": [],
      "authorship_tag": "ABX9TyMSunBsNLe9T7Km2haz369Z",
      "include_colab_link": true
    },
    "kernelspec": {
      "name": "python3",
      "display_name": "Python 3"
    }
  },
  "cells": [
    {
      "cell_type": "markdown",
      "metadata": {
        "id": "view-in-github",
        "colab_type": "text"
      },
      "source": [
        "<a href=\"https://colab.research.google.com/github/JoaoSiqueiraDS/DS_Days/blob/master/Day%209%20-%2025_08.ipynb\" target=\"_parent\"><img src=\"https://colab.research.google.com/assets/colab-badge.svg\" alt=\"Open In Colab\"/></a>"
      ]
    },
    {
      "cell_type": "markdown",
      "metadata": {
        "id": "1lMOOCG2jyGN",
        "colab_type": "text"
      },
      "source": [
        "### Day 8 - 24_08\n",
        "\n",
        "# Corey Schafer - OOP - Episode 04\n",
        "\n"
      ]
    },
    {
      "cell_type": "code",
      "metadata": {
        "id": "R5UETs_cxYHy",
        "colab_type": "code",
        "colab": {
          "base_uri": "https://localhost:8080/",
          "height": 177
        },
        "outputId": "b1289ed5-f5a7-42ad-fd1b-8282ea8dc36d"
      },
      "source": [
        "class employee:\n",
        "\n",
        "  raise_amount = 1.04\n",
        "\n",
        "  def __init__(self, first, last, pay):\n",
        "    self.first = first\n",
        "    self.last = last\n",
        "    self.pay = pay\n",
        "    self.email = first + \".\" + last + \"@email.com\"\n",
        "\n",
        "  def full_name(self):\n",
        "    return \"{} {}\".format(self.first, self.last)\n",
        "\n",
        "  def apply_raise(self):\n",
        "    self.pay = int(self.pay*self.raise_amount)\n",
        "\n",
        "  @staticmethod\n",
        "  def is_workday(day):\n",
        "    if day.weekday() == 5 or day.weekday() == 6:\n",
        "      return False\n",
        "    else:\n",
        "      return True\n",
        "\n",
        "#Inheritance\n",
        "\n",
        "class developer(employee):\n",
        "  def __init__(self, first, last, pay, lang):\n",
        "    super().__init__(first, last, pay)\n",
        "    self.lang = lang\n",
        "\n",
        "class manager(employee):\n",
        "  def __init__ (self, first, last, pay, employees = None):\n",
        "    super().__init__(first, last, pay)\n",
        "    if employees == None:\n",
        "      self.employees = []\n",
        "    else:\n",
        "      self.employees = employees\n",
        "\n",
        "  def add_emp(self, emp):\n",
        "    if emp not in self.employees:\n",
        "      self.employees.append(emp)\n",
        "\n",
        "  def remove_emp(self, emp):\n",
        "    if emp in self.employees:\n",
        "      self.employees.remove(emp)\n",
        "\n",
        "  def print_emps(self):\n",
        "    for emp in self.employees:\n",
        "      print(\"-->\", emp.full_name())\n",
        "\n",
        "\n",
        "# Creating an instance \n",
        "\n",
        "emp_1 = employee(\"John\", \"Marques\", 6000)\n",
        "emp_2 = employee(\"Ida\", \"Santos\", 5000)\n",
        "\n",
        "print(emp_1.full_name())\n",
        "\n",
        "print(emp_2.pay)\n",
        "\n",
        "print(emp_2.email)\n",
        "\n",
        "emp_1.apply_raise()\n",
        "\n",
        "print(emp_1.pay)\n",
        "\n",
        "import datetime\n",
        "\n",
        "my_date = datetime.date(1985,12,20)\n",
        "\n",
        "print(employee.is_workday(my_date))\n",
        "\n",
        "dev_1 = developer(\"Pedro\", \"Silva\", 5000, \"Python\")\n",
        "dev_2 = developer(\"Lucas\", \"Silva\", 5000, \"C++\")\n",
        "\n",
        "print(dev_1.full_name())\n",
        "(dev_1.apply_raise())\n",
        "print(dev_1.pay)\n",
        "\n",
        "mng_1 = manager(\"Carlos\", \"Pereira\", 10000, [dev_1])\n",
        "\n",
        "#mng_1.print_emps()\n",
        "\n",
        "mng_1.add_emp(dev_2)\n",
        "\n",
        "mng_1.print_emps()\n",
        "\n"
      ],
      "execution_count": 13,
      "outputs": [
        {
          "output_type": "stream",
          "text": [
            "John Marques\n",
            "5000\n",
            "Ida.Santos@email.com\n",
            "6240\n",
            "True\n",
            "Pedro Silva\n",
            "5200\n",
            "--> Pedro Silva\n",
            "--> Lucas Silva\n"
          ],
          "name": "stdout"
        }
      ]
    },
    {
      "cell_type": "markdown",
      "metadata": {
        "id": "bzlJEwH-JI87",
        "colab_type": "text"
      },
      "source": [
        "### Python Programmer Tips on how to learn Python faster\n",
        "\n",
        "https://www.youtube.com/watch?v=xsEXpzsLsc0\n",
        "\n",
        "\n",
        "* It is never too late\n",
        "\n",
        "* Learn to think computationaly\n",
        "\n",
        "* Find a learning resource and stick to it\n",
        "\n",
        "* There's free resource\n",
        "\n",
        "* **Dont spend too much on the basics ... Work on projects, little problems you may find online.**\n",
        "\n",
        "* Learn data structures and algorthms\n",
        "\n",
        "* Find problems and projects that require you to use data structure and algorithms - https://leetcode.com/\n",
        "\n",
        "* Learn to use OOP\n",
        "\n",
        "* Create and writhe a blog to document your experience with Python\n",
        "\n",
        "* Make sure you kno how to use Git and Github"
      ]
    },
    {
      "cell_type": "code",
      "metadata": {
        "id": "1BEqyq2yMBDc",
        "colab_type": "code",
        "colab": {
          "base_uri": "https://localhost:8080/",
          "height": 52
        },
        "outputId": "f5879cb6-3681-44d5-af0d-8bccf5cc81cb"
      },
      "source": [
        "import numpy as np\n",
        "\n",
        "x = np.array([1,2,3])\n",
        "\n",
        "print(x)\n",
        "\n",
        "print(type(x))"
      ],
      "execution_count": 16,
      "outputs": [
        {
          "output_type": "stream",
          "text": [
            "[1 2 3]\n",
            "<class 'numpy.ndarray'>\n"
          ],
          "name": "stdout"
        }
      ]
    },
    {
      "cell_type": "markdown",
      "metadata": {
        "id": "pe2DKyIPOvWt",
        "colab_type": "text"
      },
      "source": [
        "# Harvar Python Course\n",
        "\n",
        "## Simulating Randomness\n",
        "\n",
        "\n",
        "\n"
      ]
    },
    {
      "cell_type": "code",
      "metadata": {
        "id": "-KzUUb2BO-VJ",
        "colab_type": "code",
        "colab": {
          "base_uri": "https://localhost:8080/",
          "height": 132
        },
        "outputId": "bcaf804e-9352-41ca-f441-f51bb4c7d083"
      },
      "source": [
        "import random\n",
        "\n",
        "print(random.choice(range(1,7)))\n",
        "\n",
        "\n",
        "random.choice(random.choice([range(1,7), range(1,9), range(1,11)]))\n",
        "\n",
        "n = 10\n",
        "k = []\n",
        "\n",
        "while n >= 0:\n",
        "  k.append(random.choice(range(10))\n",
        "  n -= 1\n",
        "\n",
        "print(k)  "
      ],
      "execution_count": 35,
      "outputs": [
        {
          "output_type": "error",
          "ename": "SyntaxError",
          "evalue": "ignored",
          "traceback": [
            "\u001b[0;36m  File \u001b[0;32m\"<ipython-input-35-fed48a18490b>\"\u001b[0;36m, line \u001b[0;32m13\u001b[0m\n\u001b[0;31m    n = n - 1\u001b[0m\n\u001b[0m    ^\u001b[0m\n\u001b[0;31mSyntaxError\u001b[0m\u001b[0;31m:\u001b[0m invalid syntax\n"
          ]
        }
      ]
    },
    {
      "cell_type": "code",
      "metadata": {
        "id": "6Kfr0I4LTSxt",
        "colab_type": "code",
        "colab": {
          "base_uri": "https://localhost:8080/",
          "height": 230
        },
        "outputId": "73e8519e-eb90-4186-ef0a-b192ffcf92db"
      },
      "source": [
        "#Practing\n",
        "\n",
        "def sum_list(f):\n",
        "\n",
        "  n = 10\n",
        "  k = []\n",
        "\n",
        "  while n >= 0:\n",
        "    L = random.choice(range(1,f))\n",
        "    print(\"This is L --> {}\".format(L))\n",
        "    k.append(L)\n",
        "    A = sum(k)\n",
        "    n-=1\n",
        "    \n",
        "  print(\"The sum of all the Ls is {}.\".format(A))  \n",
        "\n",
        "sum_list(10000000)\n"
      ],
      "execution_count": 65,
      "outputs": [
        {
          "output_type": "stream",
          "text": [
            "This is L --> 4609332\n",
            "This is L --> 9227861\n",
            "This is L --> 6327613\n",
            "This is L --> 7503565\n",
            "This is L --> 6453707\n",
            "This is L --> 5701681\n",
            "This is L --> 1367574\n",
            "This is L --> 6287034\n",
            "This is L --> 4196726\n",
            "This is L --> 2314213\n",
            "This is L --> 6836768\n",
            "The sum of all the Ls is 60826074.\n"
          ],
          "name": "stdout"
        }
      ]
    }
  ]
}