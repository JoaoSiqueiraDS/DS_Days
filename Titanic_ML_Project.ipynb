{
  "nbformat": 4,
  "nbformat_minor": 0,
  "metadata": {
    "colab": {
      "provenance": [],
      "authorship_tag": "ABX9TyMxSwocY6iDmvcg5m2cXQK0",
      "include_colab_link": true
    },
    "kernelspec": {
      "name": "python3",
      "display_name": "Python 3"
    },
    "language_info": {
      "name": "python"
    }
  },
  "cells": [
    {
      "cell_type": "markdown",
      "metadata": {
        "id": "view-in-github",
        "colab_type": "text"
      },
      "source": [
        "<a href=\"https://colab.research.google.com/github/JoaoSiqueiraDS/DS_Days/blob/master/Titanic_ML_Project.ipynb\" target=\"_parent\"><img src=\"https://colab.research.google.com/assets/colab-badge.svg\" alt=\"Open In Colab\"/></a>"
      ]
    },
    {
      "cell_type": "markdown",
      "source": [
        "# Titanic ML Competition from Kaggle"
      ],
      "metadata": {
        "id": "GAQ5JJvpdCNT"
      }
    },
    {
      "cell_type": "markdown",
      "source": [
        "This notebook will be working on the Titanic competition from Kaggle. I will be using the same approach of the Hands on ML book in the 2nd chapter"
      ],
      "metadata": {
        "id": "LYmJnAokdI0S"
      }
    },
    {
      "cell_type": "markdown",
      "source": [
        "## Uploading the dataset"
      ],
      "metadata": {
        "id": "LP-YcarJdsDq"
      }
    },
    {
      "cell_type": "code",
      "source": [
        "# Importing the libraries\n",
        "\n",
        "import pandas as pd\n",
        "import numpy as np\n",
        "import matplotlib.pyplot as plt\n"
      ],
      "metadata": {
        "id": "7MLmUWaMpV6j"
      },
      "execution_count": 81,
      "outputs": []
    },
    {
      "cell_type": "code",
      "source": [
        "# Importing the trainning dataset\n",
        "\n",
        "df = pd.read_csv('/content/train.csv')\n"
      ],
      "metadata": {
        "id": "nxHwL6LItuhh"
      },
      "execution_count": 82,
      "outputs": []
    },
    {
      "cell_type": "markdown",
      "source": [
        "## EDA"
      ],
      "metadata": {
        "id": "7-P-NnHiutBy"
      }
    },
    {
      "cell_type": "code",
      "source": [
        "df.head()"
      ],
      "metadata": {
        "colab": {
          "base_uri": "https://localhost:8080/",
          "height": 285
        },
        "id": "n2k_Je6mu2bJ",
        "outputId": "9f6bf83e-7db0-45d9-9207-230325aac18c"
      },
      "execution_count": 83,
      "outputs": [
        {
          "output_type": "execute_result",
          "data": {
            "text/plain": [
              "   PassengerId  Survived  Pclass  \\\n",
              "0            1         0       3   \n",
              "1            2         1       1   \n",
              "2            3         1       3   \n",
              "3            4         1       1   \n",
              "4            5         0       3   \n",
              "\n",
              "                                                Name     Sex   Age  SibSp  \\\n",
              "0                            Braund, Mr. Owen Harris    male  22.0      1   \n",
              "1  Cumings, Mrs. John Bradley (Florence Briggs Th...  female  38.0      1   \n",
              "2                             Heikkinen, Miss. Laina  female  26.0      0   \n",
              "3       Futrelle, Mrs. Jacques Heath (Lily May Peel)  female  35.0      1   \n",
              "4                           Allen, Mr. William Henry    male  35.0      0   \n",
              "\n",
              "   Parch            Ticket     Fare Cabin Embarked  \n",
              "0      0         A/5 21171   7.2500   NaN        S  \n",
              "1      0          PC 17599  71.2833   C85        C  \n",
              "2      0  STON/O2. 3101282   7.9250   NaN        S  \n",
              "3      0            113803  53.1000  C123        S  \n",
              "4      0            373450   8.0500   NaN        S  "
            ],
            "text/html": [
              "\n",
              "  <div id=\"df-eddf9fde-e2e8-48d0-979e-3e511c677754\">\n",
              "    <div class=\"colab-df-container\">\n",
              "      <div>\n",
              "<style scoped>\n",
              "    .dataframe tbody tr th:only-of-type {\n",
              "        vertical-align: middle;\n",
              "    }\n",
              "\n",
              "    .dataframe tbody tr th {\n",
              "        vertical-align: top;\n",
              "    }\n",
              "\n",
              "    .dataframe thead th {\n",
              "        text-align: right;\n",
              "    }\n",
              "</style>\n",
              "<table border=\"1\" class=\"dataframe\">\n",
              "  <thead>\n",
              "    <tr style=\"text-align: right;\">\n",
              "      <th></th>\n",
              "      <th>PassengerId</th>\n",
              "      <th>Survived</th>\n",
              "      <th>Pclass</th>\n",
              "      <th>Name</th>\n",
              "      <th>Sex</th>\n",
              "      <th>Age</th>\n",
              "      <th>SibSp</th>\n",
              "      <th>Parch</th>\n",
              "      <th>Ticket</th>\n",
              "      <th>Fare</th>\n",
              "      <th>Cabin</th>\n",
              "      <th>Embarked</th>\n",
              "    </tr>\n",
              "  </thead>\n",
              "  <tbody>\n",
              "    <tr>\n",
              "      <th>0</th>\n",
              "      <td>1</td>\n",
              "      <td>0</td>\n",
              "      <td>3</td>\n",
              "      <td>Braund, Mr. Owen Harris</td>\n",
              "      <td>male</td>\n",
              "      <td>22.0</td>\n",
              "      <td>1</td>\n",
              "      <td>0</td>\n",
              "      <td>A/5 21171</td>\n",
              "      <td>7.2500</td>\n",
              "      <td>NaN</td>\n",
              "      <td>S</td>\n",
              "    </tr>\n",
              "    <tr>\n",
              "      <th>1</th>\n",
              "      <td>2</td>\n",
              "      <td>1</td>\n",
              "      <td>1</td>\n",
              "      <td>Cumings, Mrs. John Bradley (Florence Briggs Th...</td>\n",
              "      <td>female</td>\n",
              "      <td>38.0</td>\n",
              "      <td>1</td>\n",
              "      <td>0</td>\n",
              "      <td>PC 17599</td>\n",
              "      <td>71.2833</td>\n",
              "      <td>C85</td>\n",
              "      <td>C</td>\n",
              "    </tr>\n",
              "    <tr>\n",
              "      <th>2</th>\n",
              "      <td>3</td>\n",
              "      <td>1</td>\n",
              "      <td>3</td>\n",
              "      <td>Heikkinen, Miss. Laina</td>\n",
              "      <td>female</td>\n",
              "      <td>26.0</td>\n",
              "      <td>0</td>\n",
              "      <td>0</td>\n",
              "      <td>STON/O2. 3101282</td>\n",
              "      <td>7.9250</td>\n",
              "      <td>NaN</td>\n",
              "      <td>S</td>\n",
              "    </tr>\n",
              "    <tr>\n",
              "      <th>3</th>\n",
              "      <td>4</td>\n",
              "      <td>1</td>\n",
              "      <td>1</td>\n",
              "      <td>Futrelle, Mrs. Jacques Heath (Lily May Peel)</td>\n",
              "      <td>female</td>\n",
              "      <td>35.0</td>\n",
              "      <td>1</td>\n",
              "      <td>0</td>\n",
              "      <td>113803</td>\n",
              "      <td>53.1000</td>\n",
              "      <td>C123</td>\n",
              "      <td>S</td>\n",
              "    </tr>\n",
              "    <tr>\n",
              "      <th>4</th>\n",
              "      <td>5</td>\n",
              "      <td>0</td>\n",
              "      <td>3</td>\n",
              "      <td>Allen, Mr. William Henry</td>\n",
              "      <td>male</td>\n",
              "      <td>35.0</td>\n",
              "      <td>0</td>\n",
              "      <td>0</td>\n",
              "      <td>373450</td>\n",
              "      <td>8.0500</td>\n",
              "      <td>NaN</td>\n",
              "      <td>S</td>\n",
              "    </tr>\n",
              "  </tbody>\n",
              "</table>\n",
              "</div>\n",
              "      <button class=\"colab-df-convert\" onclick=\"convertToInteractive('df-eddf9fde-e2e8-48d0-979e-3e511c677754')\"\n",
              "              title=\"Convert this dataframe to an interactive table.\"\n",
              "              style=\"display:none;\">\n",
              "        \n",
              "  <svg xmlns=\"http://www.w3.org/2000/svg\" height=\"24px\"viewBox=\"0 0 24 24\"\n",
              "       width=\"24px\">\n",
              "    <path d=\"M0 0h24v24H0V0z\" fill=\"none\"/>\n",
              "    <path d=\"M18.56 5.44l.94 2.06.94-2.06 2.06-.94-2.06-.94-.94-2.06-.94 2.06-2.06.94zm-11 1L8.5 8.5l.94-2.06 2.06-.94-2.06-.94L8.5 2.5l-.94 2.06-2.06.94zm10 10l.94 2.06.94-2.06 2.06-.94-2.06-.94-.94-2.06-.94 2.06-2.06.94z\"/><path d=\"M17.41 7.96l-1.37-1.37c-.4-.4-.92-.59-1.43-.59-.52 0-1.04.2-1.43.59L10.3 9.45l-7.72 7.72c-.78.78-.78 2.05 0 2.83L4 21.41c.39.39.9.59 1.41.59.51 0 1.02-.2 1.41-.59l7.78-7.78 2.81-2.81c.8-.78.8-2.07 0-2.86zM5.41 20L4 18.59l7.72-7.72 1.47 1.35L5.41 20z\"/>\n",
              "  </svg>\n",
              "      </button>\n",
              "      \n",
              "  <style>\n",
              "    .colab-df-container {\n",
              "      display:flex;\n",
              "      flex-wrap:wrap;\n",
              "      gap: 12px;\n",
              "    }\n",
              "\n",
              "    .colab-df-convert {\n",
              "      background-color: #E8F0FE;\n",
              "      border: none;\n",
              "      border-radius: 50%;\n",
              "      cursor: pointer;\n",
              "      display: none;\n",
              "      fill: #1967D2;\n",
              "      height: 32px;\n",
              "      padding: 0 0 0 0;\n",
              "      width: 32px;\n",
              "    }\n",
              "\n",
              "    .colab-df-convert:hover {\n",
              "      background-color: #E2EBFA;\n",
              "      box-shadow: 0px 1px 2px rgba(60, 64, 67, 0.3), 0px 1px 3px 1px rgba(60, 64, 67, 0.15);\n",
              "      fill: #174EA6;\n",
              "    }\n",
              "\n",
              "    [theme=dark] .colab-df-convert {\n",
              "      background-color: #3B4455;\n",
              "      fill: #D2E3FC;\n",
              "    }\n",
              "\n",
              "    [theme=dark] .colab-df-convert:hover {\n",
              "      background-color: #434B5C;\n",
              "      box-shadow: 0px 1px 3px 1px rgba(0, 0, 0, 0.15);\n",
              "      filter: drop-shadow(0px 1px 2px rgba(0, 0, 0, 0.3));\n",
              "      fill: #FFFFFF;\n",
              "    }\n",
              "  </style>\n",
              "\n",
              "      <script>\n",
              "        const buttonEl =\n",
              "          document.querySelector('#df-eddf9fde-e2e8-48d0-979e-3e511c677754 button.colab-df-convert');\n",
              "        buttonEl.style.display =\n",
              "          google.colab.kernel.accessAllowed ? 'block' : 'none';\n",
              "\n",
              "        async function convertToInteractive(key) {\n",
              "          const element = document.querySelector('#df-eddf9fde-e2e8-48d0-979e-3e511c677754');\n",
              "          const dataTable =\n",
              "            await google.colab.kernel.invokeFunction('convertToInteractive',\n",
              "                                                     [key], {});\n",
              "          if (!dataTable) return;\n",
              "\n",
              "          const docLinkHtml = 'Like what you see? Visit the ' +\n",
              "            '<a target=\"_blank\" href=https://colab.research.google.com/notebooks/data_table.ipynb>data table notebook</a>'\n",
              "            + ' to learn more about interactive tables.';\n",
              "          element.innerHTML = '';\n",
              "          dataTable['output_type'] = 'display_data';\n",
              "          await google.colab.output.renderOutput(dataTable, element);\n",
              "          const docLink = document.createElement('div');\n",
              "          docLink.innerHTML = docLinkHtml;\n",
              "          element.appendChild(docLink);\n",
              "        }\n",
              "      </script>\n",
              "    </div>\n",
              "  </div>\n",
              "  "
            ]
          },
          "metadata": {},
          "execution_count": 83
        }
      ]
    },
    {
      "cell_type": "code",
      "source": [
        "df.columns"
      ],
      "metadata": {
        "colab": {
          "base_uri": "https://localhost:8080/"
        },
        "id": "h-KbCxiIxdPp",
        "outputId": "e044da27-0735-4460-9804-8d0202d71a79"
      },
      "execution_count": 84,
      "outputs": [
        {
          "output_type": "execute_result",
          "data": {
            "text/plain": [
              "Index(['PassengerId', 'Survived', 'Pclass', 'Name', 'Sex', 'Age', 'SibSp',\n",
              "       'Parch', 'Ticket', 'Fare', 'Cabin', 'Embarked'],\n",
              "      dtype='object')"
            ]
          },
          "metadata": {},
          "execution_count": 84
        }
      ]
    },
    {
      "cell_type": "markdown",
      "source": [
        "**Variable\tDefinition\tKey**\n",
        "\n",
        "survival\tSurvival\t0 = No, 1 = Yes\n",
        "\n",
        "pclass\tTicket class\t1 = 1st, 2 = 2nd, 3 = 3rd\n",
        "\n",
        "sex\tSex\t\n",
        "\n",
        "Age\tAge in years\t\n",
        "\n",
        "sibsp\t# of siblings / spouses aboard the Titanic\t\n",
        "\n",
        "parch\t# of parents / children aboard the Titanic\t\n",
        "\n",
        "ticket\tTicket number\t\n",
        "\n",
        "fare\tPassenger fare\t\n",
        "\n",
        "cabin\tCabin number\t\n",
        "\n",
        "embarked\tPort of Embarkation\tC = Cherbourg, Q = \n",
        "Queenstown, S = Southampton\n"
      ],
      "metadata": {
        "id": "BgvMNQtFfLde"
      }
    },
    {
      "cell_type": "code",
      "source": [
        "df.info()"
      ],
      "metadata": {
        "colab": {
          "base_uri": "https://localhost:8080/"
        },
        "id": "PDMvyk15hn9-",
        "outputId": "e2d00055-be45-47e1-ef82-48b61a124501"
      },
      "execution_count": 85,
      "outputs": [
        {
          "output_type": "stream",
          "name": "stdout",
          "text": [
            "<class 'pandas.core.frame.DataFrame'>\n",
            "RangeIndex: 891 entries, 0 to 890\n",
            "Data columns (total 12 columns):\n",
            " #   Column       Non-Null Count  Dtype  \n",
            "---  ------       --------------  -----  \n",
            " 0   PassengerId  891 non-null    int64  \n",
            " 1   Survived     891 non-null    int64  \n",
            " 2   Pclass       891 non-null    int64  \n",
            " 3   Name         891 non-null    object \n",
            " 4   Sex          891 non-null    object \n",
            " 5   Age          714 non-null    float64\n",
            " 6   SibSp        891 non-null    int64  \n",
            " 7   Parch        891 non-null    int64  \n",
            " 8   Ticket       891 non-null    object \n",
            " 9   Fare         891 non-null    float64\n",
            " 10  Cabin        204 non-null    object \n",
            " 11  Embarked     889 non-null    object \n",
            "dtypes: float64(2), int64(5), object(5)\n",
            "memory usage: 83.7+ KB\n"
          ]
        }
      ]
    },
    {
      "cell_type": "code",
      "source": [
        "df['Sex'].value_counts()"
      ],
      "metadata": {
        "colab": {
          "base_uri": "https://localhost:8080/"
        },
        "id": "9bYMAzQFjzwz",
        "outputId": "24e49e3f-1a0d-4cf0-a24f-10818f231908"
      },
      "execution_count": 86,
      "outputs": [
        {
          "output_type": "execute_result",
          "data": {
            "text/plain": [
              "male      577\n",
              "female    314\n",
              "Name: Sex, dtype: int64"
            ]
          },
          "metadata": {},
          "execution_count": 86
        }
      ]
    },
    {
      "cell_type": "code",
      "source": [
        "women = df.loc[df.Sex == 'female'][\"Survived\"]\n",
        "rate_women = sum(women)/len(women)\n",
        "\n",
        "print(\"% of women who survived:\", rate_women)"
      ],
      "metadata": {
        "colab": {
          "base_uri": "https://localhost:8080/"
        },
        "id": "ftR6ICHGngZR",
        "outputId": "291a5a68-d85a-4fb9-a787-c2e708fc5ac2"
      },
      "execution_count": 87,
      "outputs": [
        {
          "output_type": "stream",
          "name": "stdout",
          "text": [
            "% of women who survived: 0.7420382165605095\n"
          ]
        }
      ]
    },
    {
      "cell_type": "code",
      "source": [
        "men = df.loc[df['Sex']=='male']['Survived']\n",
        "rate_men = sum(men)/len(men)\n",
        "\n",
        "print('% of men who suvived:', rate_men)"
      ],
      "metadata": {
        "colab": {
          "base_uri": "https://localhost:8080/"
        },
        "id": "bQ2qrbpvynV7",
        "outputId": "7f40435d-b11e-4c4c-aa7e-d29c0760cd59"
      },
      "execution_count": 88,
      "outputs": [
        {
          "output_type": "stream",
          "name": "stdout",
          "text": [
            "% of men who suvived: 0.18890814558058924\n"
          ]
        }
      ]
    },
    {
      "cell_type": "code",
      "source": [
        "import matplotlib.pyplot as plt\n",
        "\n",
        "\n",
        "df.hist(bins=50, figsize=(20,15), color='k')\n",
        "plt.show()"
      ],
      "metadata": {
        "colab": {
          "base_uri": "https://localhost:8080/",
          "height": 857
        },
        "id": "VtrmVLqZvdvE",
        "outputId": "dabc7af0-c8bf-4843-b906-6187f2b79bb7"
      },
      "execution_count": 89,
      "outputs": [
        {
          "output_type": "display_data",
          "data": {
            "text/plain": [
              "<Figure size 2000x1500 with 9 Axes>"
            ],
            "image/png": "[encoded data removed]"
          },
          "metadata": {}
        }
      ]
    },
    {
      "cell_type": "code",
      "source": [
        "# Knowing the null values\n",
        "\n",
        "df.isnull().sum()"
      ],
      "metadata": {
        "colab": {
          "base_uri": "https://localhost:8080/"
        },
        "id": "E7fwPlw-xv1p",
        "outputId": "64d44a4c-e9e3-405a-b458-3585bd161b84"
      },
      "execution_count": 90,
      "outputs": [
        {
          "output_type": "execute_result",
          "data": {
            "text/plain": [
              "PassengerId      0\n",
              "Survived         0\n",
              "Pclass           0\n",
              "Name             0\n",
              "Sex              0\n",
              "Age            177\n",
              "SibSp            0\n",
              "Parch            0\n",
              "Ticket           0\n",
              "Fare             0\n",
              "Cabin          687\n",
              "Embarked         2\n",
              "dtype: int64"
            ]
          },
          "metadata": {},
          "execution_count": 90
        }
      ]
    },
    {
      "cell_type": "code",
      "source": [
        "# Treating the Age column\n",
        "\n",
        "df['Age'] = df.groupby('Pclass')['Age'].transform(lambda x: x.fillna(x.median()))"
      ],
      "metadata": {
        "id": "bxp_V3aMx_1q"
      },
      "execution_count": 91,
      "outputs": []
    },
    {
      "cell_type": "code",
      "source": [
        "# Treating the cabin column\n",
        "\n",
        "df.drop('Cabin', axis=1, inplace=True)"
      ],
      "metadata": {
        "id": "y1n2aK0X6GdF"
      },
      "execution_count": 92,
      "outputs": []
    },
    {
      "cell_type": "code",
      "source": [
        "# Treating the Embarked column\n",
        "\n",
        "df.dropna(subset=['Embarked'], inplace=True)"
      ],
      "metadata": {
        "id": "O22sjk7eNedu"
      },
      "execution_count": 94,
      "outputs": []
    },
    {
      "cell_type": "code",
      "source": [
        "df.isnull().sum()"
      ],
      "metadata": {
        "id": "KI9aCIpEQqDI",
        "outputId": "26380457-cdb4-4b16-976b-d25d173034d4",
        "colab": {
          "base_uri": "https://localhost:8080/"
        }
      },
      "execution_count": 100,
      "outputs": [
        {
          "output_type": "execute_result",
          "data": {
            "text/plain": [
              "PassengerId    0\n",
              "Survived       0\n",
              "Pclass         0\n",
              "Name           0\n",
              "Sex            0\n",
              "Age            0\n",
              "SibSp          0\n",
              "Parch          0\n",
              "Ticket         0\n",
              "Fare           0\n",
              "Embarked       0\n",
              "Age_cat        0\n",
              "dtype: int64"
            ]
          },
          "metadata": {},
          "execution_count": 100
        }
      ]
    },
    {
      "cell_type": "markdown",
      "source": [
        "## Creating a test "
      ],
      "metadata": {
        "id": "YOML6mxfyjtl"
      }
    },
    {
      "cell_type": "code",
      "source": [
        "from sklearn.model_selection import train_test_split\n",
        "\n",
        "train_set, test_set = train_test_split(df, test_size=0.2, random_state=42)"
      ],
      "metadata": {
        "id": "cC6m0WIc5czl"
      },
      "execution_count": 101,
      "outputs": []
    },
    {
      "cell_type": "markdown",
      "source": [
        "## Stratifying the train and test sets\n",
        "\n",
        "For such small dataset, stratifying it is quite interesting and can bring more accuracy to our project."
      ],
      "metadata": {
        "id": "wCpAIjtF505V"
      }
    },
    {
      "cell_type": "code",
      "source": [
        "df['Age_cat'] = pd.cut(df['Age'], bins=[0, 10, 20, 30, 40, 50, 60, 70, np.inf],\n",
        "                       labels=[1, 2, 3, 4, 5, 6, 7, 8])"
      ],
      "metadata": {
        "id": "ZInKZcrA6Jjh"
      },
      "execution_count": 102,
      "outputs": []
    },
    {
      "cell_type": "code",
      "source": [
        "df['Age_cat'].hist()"
      ],
      "metadata": {
        "colab": {
          "base_uri": "https://localhost:8080/",
          "height": 447
        },
        "id": "Io70uPJq8b0m",
        "outputId": "4e4c3007-a1f8-4fa0-ceb1-4ecd61a1022a"
      },
      "execution_count": 103,
      "outputs": [
        {
          "output_type": "execute_result",
          "data": {
            "text/plain": [
              "<Axes: >"
            ]
          },
          "metadata": {},
          "execution_count": 103
        },
        {
          "output_type": "display_data",
          "data": {
            "text/plain": [
              "<Figure size 640x480 with 1 Axes>"
            ],
            "image/png": "[encoded data removed]"
          },
          "metadata": {}
        }
      ]
    },
    {
      "cell_type": "code",
      "source": [
        "from sklearn.model_selection import StratifiedShuffleSplit \n",
        "\n",
        "# Reset the index of the DataFrame\n",
        "df.reset_index(drop=True, inplace=True)\n",
        "\n",
        "sss = StratifiedShuffleSplit(n_splits=1, test_size=0.2, random_state=42)\n",
        "for train_index, test_index in sss.split(df, df['Age_cat']):\n",
        "  strat_train_set = df.loc[train_index]\n",
        "  strat_test_set = df.loc[test_index]"
      ],
      "metadata": {
        "id": "nyV1eLgq6h9s"
      },
      "execution_count": 106,
      "outputs": []
    },
    {
      "cell_type": "code",
      "source": [
        "strat_test_set['Age_cat'].value_counts()/len(strat_test_set)  "
      ],
      "metadata": {
        "colab": {
          "base_uri": "https://localhost:8080/"
        },
        "id": "-Qj4smOU6zUU",
        "outputId": "e412fdcc-6112-4af4-a4e9-e96d9aa1ba58"
      },
      "execution_count": 107,
      "outputs": [
        {
          "output_type": "execute_result",
          "data": {
            "text/plain": [
              "3    0.426966\n",
              "4    0.207865\n",
              "2    0.129213\n",
              "5    0.095506\n",
              "1    0.073034\n",
              "6    0.044944\n",
              "7    0.016854\n",
              "8    0.005618\n",
              "Name: Age_cat, dtype: float64"
            ]
          },
          "metadata": {},
          "execution_count": 107
        }
      ]
    },
    {
      "cell_type": "code",
      "source": [
        "# droping the 'Age_cat' column\n",
        "\n",
        "for set_ in (strat_train_set, strat_test_set):\n",
        "  set_.drop('Age_cat', axis=1, inplace=True)"
      ],
      "metadata": {
        "id": "69GepEfV7GY0"
      },
      "execution_count": 108,
      "outputs": []
    },
    {
      "cell_type": "code",
      "source": [
        "# Copying the train dataset to df\n",
        "\n",
        "df = strat_test_set.copy()"
      ],
      "metadata": {
        "id": "wTx5A-lfeLlt"
      },
      "execution_count": 112,
      "outputs": []
    },
    {
      "cell_type": "markdown",
      "source": [
        "## Looking for correlations"
      ],
      "metadata": {
        "id": "UsFIaYjD77rb"
      }
    },
    {
      "cell_type": "code",
      "source": [
        "corr_matrix = df.corr()"
      ],
      "metadata": {
        "id": "k-bEf5kx8DlL",
        "outputId": "1e8b1b0e-76b4-49a7-9461-c73aefefd1b5",
        "colab": {
          "base_uri": "https://localhost:8080/"
        }
      },
      "execution_count": 113,
      "outputs": [
        {
          "output_type": "stream",
          "name": "stderr",
          "text": [
            "<ipython-input-113-b69b4b6a6184>:1: FutureWarning: The default value of numeric_only in DataFrame.corr is deprecated. In a future version, it will default to False. Select only valid columns or specify the value of numeric_only to silence this warning.\n",
            "  corr_matrix = df.corr()\n"
          ]
        }
      ]
    },
    {
      "cell_type": "code",
      "source": [
        "corr_matrix['Survived'].sort_values(ascending=False)"
      ],
      "metadata": {
        "id": "gUm4l-Xv8K_r",
        "outputId": "069951b8-1306-4b01-aa5c-c0dd012c0f05",
        "colab": {
          "base_uri": "https://localhost:8080/"
        }
      },
      "execution_count": 114,
      "outputs": [
        {
          "output_type": "execute_result",
          "data": {
            "text/plain": [
              "Survived       1.000000\n",
              "Fare           0.320897\n",
              "Parch          0.194551\n",
              "PassengerId    0.027687\n",
              "SibSp          0.021164\n",
              "Age            0.008756\n",
              "Pclass        -0.413628\n",
              "Name: Survived, dtype: float64"
            ]
          },
          "metadata": {},
          "execution_count": 114
        }
      ]
    },
    {
      "cell_type": "code",
      "source": [
        "# Another way to find correlation - Didnt help much\n",
        "\n",
        "from pandas.plotting import scatter_matrix\n",
        "\n",
        "attributes = ['Survived', 'Fare', 'Pclass', 'Parch']\n",
        "\n",
        "scatter_matrix(df[attributes], figsize=(8,6))"
      ],
      "metadata": {
        "id": "0PqhIgkUSJNA",
        "outputId": "a9e4ff67-f21b-40f3-8ae2-ced90d297436",
        "colab": {
          "base_uri": "https://localhost:8080/",
          "height": 828
        }
      },
      "execution_count": 115,
      "outputs": [
        {
          "output_type": "execute_result",
          "data": {
            "text/plain": [
              "array([[<Axes: xlabel='Survived', ylabel='Survived'>,\n",
              "        <Axes: xlabel='Fare', ylabel='Survived'>,\n",
              "        <Axes: xlabel='Pclass', ylabel='Survived'>,\n",
              "        <Axes: xlabel='Parch', ylabel='Survived'>],\n",
              "       [<Axes: xlabel='Survived', ylabel='Fare'>,\n",
              "        <Axes: xlabel='Fare', ylabel='Fare'>,\n",
              "        <Axes: xlabel='Pclass', ylabel='Fare'>,\n",
              "        <Axes: xlabel='Parch', ylabel='Fare'>],\n",
              "       [<Axes: xlabel='Survived', ylabel='Pclass'>,\n",
              "        <Axes: xlabel='Fare', ylabel='Pclass'>,\n",
              "        <Axes: xlabel='Pclass', ylabel='Pclass'>,\n",
              "        <Axes: xlabel='Parch', ylabel='Pclass'>],\n",
              "       [<Axes: xlabel='Survived', ylabel='Parch'>,\n",
              "        <Axes: xlabel='Fare', ylabel='Parch'>,\n",
              "        <Axes: xlabel='Pclass', ylabel='Parch'>,\n",
              "        <Axes: xlabel='Parch', ylabel='Parch'>]], dtype=object)"
            ]
          },
          "metadata": {},
          "execution_count": 115
        },
        {
          "output_type": "display_data",
          "data": {
            "text/plain": [
              "<Figure size 800x600 with 16 Axes>"
            ],
            "image/png": "[encoded data removed]"
          },
          "metadata": {}
        }
      ]
    },
    {
      "cell_type": "markdown",
      "source": [
        "## Creating new attributes\n",
        "\n"
      ],
      "metadata": {
        "id": "FoVQI9GDTJFN"
      }
    },
    {
      "cell_type": "code",
      "source": [
        "df['Fare_per_Parch'] = df['Fare']/df['Parch']\n",
        "df['Pclass_per_Age'] = df['Pclass']/df['Age']"
      ],
      "metadata": {
        "id": "a50pRC_fd3o1"
      },
      "execution_count": 116,
      "outputs": []
    },
    {
      "cell_type": "code",
      "source": [
        "corr_matrix = df.corr()\n",
        "corr_matrix['Survived'].sort_values(ascending=False)"
      ],
      "metadata": {
        "id": "PKsOJcIpg1-P",
        "outputId": "40a4ff4b-75e9-462f-8fc2-05c255ecb73e",
        "colab": {
          "base_uri": "https://localhost:8080/"
        }
      },
      "execution_count": 117,
      "outputs": [
        {
          "output_type": "stream",
          "name": "stderr",
          "text": [
            "<ipython-input-117-c706ad72281b>:1: FutureWarning: The default value of numeric_only in DataFrame.corr is deprecated. In a future version, it will default to False. Select only valid columns or specify the value of numeric_only to silence this warning.\n",
            "  corr_matrix = df.corr()\n"
          ]
        },
        {
          "output_type": "execute_result",
          "data": {
            "text/plain": [
              "Survived          1.000000\n",
              "Fare              0.320897\n",
              "Fare_per_Parch    0.246290\n",
              "Parch             0.194551\n",
              "Pclass_per_Age    0.125670\n",
              "PassengerId       0.027687\n",
              "SibSp             0.021164\n",
              "Age               0.008756\n",
              "Pclass           -0.413628\n",
              "Name: Survived, dtype: float64"
            ]
          },
          "metadata": {},
          "execution_count": 117
        }
      ]
    },
    {
      "cell_type": "markdown",
      "source": [
        "## Preparaing the data for the ML algorithm\n",
        "\n"
      ],
      "metadata": {
        "id": "XPTnG_MJhjY2"
      }
    },
    {
      "cell_type": "code",
      "source": [
        "# the first thing is to create a dataset for predictors and labels\n",
        "\n",
        "df = strat_train_set.drop('Survived', axis=1)\n",
        "df_label = strat_test_set['Survived'].copy()"
      ],
      "metadata": {
        "id": "9E-eAXzkFfdV"
      },
      "execution_count": 118,
      "outputs": []
    },
    {
      "cell_type": "markdown",
      "source": [
        "## Data Cleaning"
      ],
      "metadata": {
        "id": "KrQXEGhaF_xV"
      }
    }
  ]
}