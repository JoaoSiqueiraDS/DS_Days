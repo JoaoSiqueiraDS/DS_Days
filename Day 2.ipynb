{
  "nbformat": 4,
  "nbformat_minor": 0,
  "metadata": {
    "colab": {
      "name": "Untitled9.ipynb",
      "provenance": [],
      "authorship_tag": "ABX9TyMGvBozUieaewH3n2spoWri",
      "include_colab_link": true
    },
    "kernelspec": {
      "name": "python3",
      "display_name": "Python 3"
    }
  },
  "cells": [
    {
      "cell_type": "markdown",
      "metadata": {
        "id": "view-in-github",
        "colab_type": "text"
      },
      "source": [
        "<a href=\"https://colab.research.google.com/github/JoaoSiqueiraDS/DS_Days/blob/September/Day%202.ipynb\" target=\"_parent\"><img src=\"https://colab.research.google.com/assets/colab-badge.svg\" alt=\"Open In Colab\"/></a>"
      ]
    },
    {
      "cell_type": "code",
      "metadata": {
        "id": "2OUVAHYlfnM7",
        "colab_type": "code",
        "colab": {
          "base_uri": "https://localhost:8080/",
          "height": 88
        },
        "outputId": "376db0f5-7e97-4002-a0c8-a99aef7f963b"
      },
      "source": [
        "class Employee:\n",
        "\n",
        "    raise_amt = 1.04\n",
        "\n",
        "    def __init__(self, first, last, pay):\n",
        "        self.first = first\n",
        "        self.last = last\n",
        "        self.email = first + '.' + last + '@email.com'\n",
        "        self.pay = pay\n",
        "\n",
        "    def fullname(self):\n",
        "        return '{} {}'.format(self.first, self.last)\n",
        "\n",
        "    def apply_raise(self):\n",
        "        self.pay = int(self.pay * self.raise_amt)\n",
        "\n",
        "\n",
        "dev_1 = Employee('Corey', 'Schafer', 50000)\n",
        "dev_2 = Employee('Test', 'Employee', 60000)\n",
        "\n",
        "print(dev_1.email)\n",
        "print(dev_2.email)\n",
        "\n",
        "\n",
        "class Developer(Employee):\n",
        " \n",
        "  raise_amt = 1.10\n",
        "\n",
        "  def __init__(self, first, last, pay, lang):\n",
        "    super().__init__(first, last, pay)\n",
        "    self.lang = lang\n",
        "\n",
        "dev_3 = Developer(\"Mari\", \"Tebs\", 8000, \"C++\")\n",
        "\n",
        "dev_3.fullname()\n",
        "\n",
        "dev_3.apply_raise()\n",
        "\n",
        "dev_3.pay\n",
        "\n",
        "print(dev_3.email, dev_3.lang, dev_3.pay)\n",
        "\n",
        "dev_3.pay\n"
      ],
      "execution_count": 6,
      "outputs": [
        {
          "output_type": "stream",
          "text": [
            "Corey.Schafer@email.com\n",
            "Test.Employee@email.com\n",
            "Mari.Tebs@email.com C++ 8800\n"
          ],
          "name": "stdout"
        },
        {
          "output_type": "execute_result",
          "data": {
            "text/plain": [
              "8800"
            ]
          },
          "metadata": {
            "tags": []
          },
          "execution_count": 6
        }
      ]
    },
    {
      "cell_type": "code",
      "metadata": {
        "id": "UVmaLxL_I-LL",
        "colab_type": "code",
        "colab": {
          "base_uri": "https://localhost:8080/",
          "height": 35
        },
        "outputId": "7939c66a-4fb7-4403-fd82-893c041088db"
      },
      "source": [
        "# OOP - Inheritance - Trainning\n",
        "\n",
        "class Pizza:\n",
        "  \n",
        "  def __init__(self, flav, price):\n",
        "    self.flav = flav\n",
        "    self.price = price\n",
        "\n",
        "  def com_borda(self):\n",
        "    self.price = self.price+10\n",
        "\n",
        "  def pedido(self):\n",
        "    return \"Meu pedido é: {}\".format(self.flav)\n",
        "\n",
        "pizza1 = Pizza(\"cheese\", 40)\n",
        "\n",
        "pizza1.flav\n",
        "\n",
        "pizza1.com_borda()\n",
        "\n",
        "pizza1.price\n",
        "\n",
        "class Esfiha(Pizza):\n",
        "\n",
        "  def __init__(self, flav, price, size):\n",
        "    super().__init__(flav,price)\n",
        "    self.size = size\n",
        "\n",
        "esfiha1 = Esfiha(\"meat\", 20, \"L\")\n",
        "\n",
        "esfiha1.com_borda()\n",
        "\n",
        "esfiha1.price\n"
      ],
      "execution_count": 24,
      "outputs": [
        {
          "output_type": "execute_result",
          "data": {
            "text/plain": [
              "30"
            ]
          },
          "metadata": {
            "tags": []
          },
          "execution_count": 24
        }
      ]
    }
  ]
}