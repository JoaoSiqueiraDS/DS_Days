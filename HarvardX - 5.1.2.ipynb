{
  "nbformat": 4,
  "nbformat_minor": 0,
  "metadata": {
    "colab": {
      "name": "Untitled38.ipynb",
      "provenance": [],
      "authorship_tag": "ABX9TyOQ7FRDFlbD9ZWjcv5bwzEe",
      "include_colab_link": true
    },
    "kernelspec": {
      "name": "python3",
      "display_name": "Python 3"
    }
  },
  "cells": [
    {
      "cell_type": "markdown",
      "metadata": {
        "id": "view-in-github",
        "colab_type": "text"
      },
      "source": [
        "<a href=\"https://colab.research.google.com/github/JoaoSiqueiraDS/DS_Days/blob/October/HarvardX%20-%205.1.2.ipynb\" target=\"_parent\"><img src=\"https://colab.research.google.com/assets/colab-badge.svg\" alt=\"Open In Colab\"/></a>"
      ]
    },
    {
      "cell_type": "markdown",
      "metadata": {
        "id": "7L6rAuHjcX0T"
      },
      "source": [
        "# 5.1.2 Generating example of regression data"
      ]
    },
    {
      "cell_type": "code",
      "metadata": {
        "id": "SKcInH99edGq",
        "outputId": "494f8644-5c81-4bf3-a47d-c465cb6d16d6",
        "colab": {
          "base_uri": "https://localhost:8080/",
          "height": 296
        }
      },
      "source": [
        "import numpy as np\n",
        "import scipy.stats as ss\n",
        "import matplotlib.pyplot as plt\n",
        "\n",
        "\n",
        "n = 100\n",
        "beta_0 = 5\n",
        "beta_1 = 2\n",
        "np.random.seed(2)\n",
        "x = 10 * ss.uniform.rvs(size=n)\n",
        "y = beta_0 + beta_1 * x + ss.norm.rvs(loc=0, scale=1, size=n)\n",
        "\n",
        "plt.figure()\n",
        "plt.plot(x, y, \"o\", ms=5)\n",
        "xx = np.array([0,10])\n",
        "plt.plot(xx, beta_0 + beta_1 * xx)\n",
        "plt.xlabel(\"x\")\n",
        "plt.ylabel(\"y\")\n"
      ],
      "execution_count": 3,
      "outputs": [
        {
          "output_type": "execute_result",
          "data": {
            "text/plain": [
              "Text(0, 0.5, 'y')"
            ]
          },
          "metadata": {
            "tags": []
          },
          "execution_count": 3
        },
        {
          "output_type": "display_data",
          "data": {
            "image/png": "[encoded data removed]",
            "text/plain": [
              "<Figure size 432x288 with 1 Axes>"
            ]
          },
          "metadata": {
            "tags": [],
            "needs_background": "light"
          }
        }
      ]
    }
  ]
}