{
  "nbformat": 4,
  "nbformat_minor": 0,
  "metadata": {
    "colab": {
      "name": "Untitled2.ipynb",
      "provenance": [],
      "authorship_tag": "ABX9TyONpgruJUwtHvxHfG+m3gwb",
      "include_colab_link": true
    },
    "kernelspec": {
      "name": "python3",
      "display_name": "Python 3"
    }
  },
  "cells": [
    {
      "cell_type": "markdown",
      "metadata": {
        "id": "view-in-github",
        "colab_type": "text"
      },
      "source": [
        "<a href=\"https://colab.research.google.com/github/JoaoSiqueiraDS/DS_Days/blob/master/Day_2_11_08.ipynb\" target=\"_parent\"><img src=\"https://colab.research.google.com/assets/colab-badge.svg\" alt=\"Open In Colab\"/></a>"
      ]
    },
    {
      "cell_type": "markdown",
      "metadata": {
        "id": "TcQwh1X1bpM3",
        "colab_type": "text"
      },
      "source": [
        "#Harvard Python Course\n",
        "\n",
        "* Scope rule - Python identifies the variables from the layers inside out - LEGB"
      ]
    },
    {
      "cell_type": "code",
      "metadata": {
        "id": "4fHFSObvcAx2",
        "colab_type": "code",
        "colab": {
          "base_uri": "https://localhost:8080/",
          "height": 52
        },
        "outputId": "1495c597-c65c-4674-dca8-b72e0c4610d0"
      },
      "source": [
        "def increment(n):\n",
        "    n += 1\n",
        "    print(n)\n",
        "\n",
        "n = 1\n",
        "increment(n)\n",
        "print(n)\n"
      ],
      "execution_count": 1,
      "outputs": [
        {
          "output_type": "stream",
          "text": [
            "2\n",
            "1\n"
          ],
          "name": "stdout"
        }
      ]
    },
    {
      "cell_type": "markdown",
      "metadata": {
        "id": "4vsjliiWcJv7",
        "colab_type": "text"
      },
      "source": [
        "* Classes and object-oriented programming\n",
        "\n",
        " - Inhiritance\n",
        " - Classes allow us to logically group our data and functions in a way that is easy to reuse and also easy to build upon if need be. "
      ]
    },
    {
      "cell_type": "code",
      "metadata": {
        "id": "1jHmDUvro8-E",
        "colab_type": "code",
        "colab": {
          "base_uri": "https://localhost:8080/",
          "height": 35
        },
        "outputId": "3dfcc62c-63e4-4ed7-fa9a-22efbeeaba7b"
      },
      "source": [
        "class MyList(list):\n",
        "  def remove_min(self):\n",
        "    self.remove(min(self))\n",
        "  def remove_max(self):\n",
        "    self.remove(max(self))\n",
        "\n",
        "x = [1,2,3,4,5,6,7,8,9]\n",
        "\n",
        "\n",
        "\n",
        "K = MyList(x)\n",
        "dir(K)\n",
        "\n",
        "K.remove_max()\n",
        "K\n",
        "\n",
        "K.remove_min()\n",
        "K\n",
        "\n",
        "MyList.remove_min(x)\n"
      ],
      "execution_count": 21,
      "outputs": [
        {
          "output_type": "execute_result",
          "data": {
            "text/plain": [
              "[2, 3, 4, 5, 6, 7, 8, 9]"
            ]
          },
          "metadata": {
            "tags": []
          },
          "execution_count": 21
        }
      ]
    }
  ]
}