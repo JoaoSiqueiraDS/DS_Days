{
  "nbformat": 4,
  "nbformat_minor": 0,
  "metadata": {
    "colab": {
      "name": "Untitled46.ipynb",
      "provenance": [],
      "authorship_tag": "ABX9TyNEKvjYo6F/jFxzv77dyYXN",
      "include_colab_link": true
    },
    "kernelspec": {
      "name": "python3",
      "display_name": "Python 3"
    }
  },
  "cells": [
    {
      "cell_type": "markdown",
      "metadata": {
        "id": "view-in-github",
        "colab_type": "text"
      },
      "source": [
        "<a href=\"https://colab.research.google.com/github/JoaoSiqueiraDS/DS_Days/blob/January_21/OOP_tutorial_06_Property%20Decorators%3A%20Setter%20and%20Deleter.ipynb\" target=\"_parent\"><img src=\"https://colab.research.google.com/assets/colab-badge.svg\" alt=\"Open In Colab\"/></a>"
      ]
    },
    {
      "cell_type": "code",
      "metadata": {
        "id": "FSPPsxHvfMNI"
      },
      "source": [
        "@staticmethod\r\n",
        "def is_workday(day):\r\n",
        "  if day.weekday() == 5 or day.weekday == 6:\r\n",
        "    return False\r\n",
        "  return True\r\n",
        "\r\n",
        "import datetime\r\n",
        "my_date = datetime.date(2021,1,25)\r\n",
        "\r\n"
      ],
      "execution_count": null,
      "outputs": []
    },
    {
      "cell_type": "code",
      "metadata": {
        "colab": {
          "base_uri": "https://localhost:8080/"
        },
        "id": "cNsws1FQgYbq",
        "outputId": "b83c12d1-0d8b-4438-c6a9-1faaf0c33add"
      },
      "source": [
        "# Tutorial 2\r\n",
        "\r\n",
        "# Calss variables and Instance Variables\r\n",
        "\r\n",
        "class Employee2:\r\n",
        "\r\n",
        "  raise_amount = 1.04 # this is a class variable - It can be used by any instance in this class\r\n",
        "\r\n",
        "  num_of_emps = 0\r\n",
        "\r\n",
        "  def __init__(self, first, last, pay):\r\n",
        "    self.first = first # instance variable\r\n",
        "    self.last = last # ''\r\n",
        "    self.pay = pay #''\r\n",
        "    self.email = first + \".\" + last + \"@company.com\" #''\r\n",
        "\r\n",
        "    Employee2.num_of_emps += 1\r\n",
        "\r\n",
        "  def fullname(self):\r\n",
        "    return \"{} {}\".format(self.first, self.last)\r\n",
        "\r\n",
        "  def apply_raise(self):\r\n",
        "    self.pay = int(self.pay * self.raise_amount)\r\n",
        "\r\n",
        "# The following lines change the value of a class variable. In this case, raise_amount\r\n",
        "\r\n",
        "  @classmethod\r\n",
        "  def set_raise_amt(cls, amount):\r\n",
        "    cls.raise_amount = amount\r\n",
        "\r\n",
        "  @classmethod\r\n",
        "  def from_string(cls, emp_str):\r\n",
        "    first, last, pay = emp_str.split(\"-\")\r\n",
        "    return cls(first, last, pay)\r\n",
        "\r\n",
        "  @staticmethod\r\n",
        "  def is_workday(day):\r\n",
        "    if day.weekday() == 5 or day.weekday() == 6:\r\n",
        "      return False \r\n",
        "    return True\r\n",
        "\r\n",
        "import datetime\r\n",
        "my_date = datetime.date(2021, 1, 24)\r\n",
        "\r\n",
        "Employee2.set_raise_amt(1.09)\r\n",
        "\r\n",
        "\r\n",
        "emp_3 = Employee2(\"Joao\", \"Marques\", 3500)\r\n",
        "emp_4 = Employee2(\"Mari\", \"Tebaldi\", 5000)\r\n",
        "emp_5 = Employee2(\"Milton\", \"Tebaldi\", 10000)\r\n",
        "emp_6 = Employee2(\"Van\", \"Tebaldi\", 10000)\r\n",
        "\r\n",
        "emp_str_1 = \"Joe-Doe-8000\"\r\n",
        "\r\n",
        "print(emp_3.raise_amount) # When an attribute is not found in an Instance (that is the case of raise_amount) the program looks for a class attribute\r\n",
        "\r\n",
        "print(emp_3.__dict__)\r\n",
        "\r\n",
        "print(emp_3.fullname())\r\n",
        "\r\n",
        "print(Employee2.num_of_emps)\r\n",
        "\r\n",
        "print(Employee2.raise_amount)\r\n",
        "\r\n",
        "New_emp = Employee2.from_string(emp_str_1)\r\n",
        "\r\n",
        "print(New_emp.__dict__)\r\n",
        "\r\n",
        "print(my_date)\r\n",
        "\r\n",
        "print(my_date)\r\n",
        "\r\n",
        "print(Employee2.is_workday(datetime.date(2021,1,24)))\r\n",
        "\r\n"
      ],
      "execution_count": null,
      "outputs": [
        {
          "output_type": "stream",
          "text": [
            "1.09\n",
            "{'first': 'Joao', 'last': 'Marques', 'pay': 3500, 'email': 'Joao.Marques@company.com'}\n",
            "Joao Marques\n",
            "4\n",
            "1.09\n",
            "{'first': 'Joe', 'last': 'Doe', 'pay': '8000', 'email': 'Joe.Doe@company.com'}\n",
            "2021-01-24\n",
            "2021-01-24\n",
            "False\n"
          ],
          "name": "stdout"
        }
      ]
    },
    {
      "cell_type": "code",
      "metadata": {
        "id": "WLgDWKNUS0l-",
        "colab": {
          "base_uri": "https://localhost:8080/"
        },
        "outputId": "37f92056-896b-44d9-a505-9b0f40c2c7fa"
      },
      "source": [
        "# Tutorial 4 - Inheritance - Creating Subclasses\r\n",
        "\r\n",
        "class Employee3:\r\n",
        "\r\n",
        "  raise_amount = 1.04 # this is a class variable - It can be used by any instance in this class\r\n",
        "\r\n",
        "  num_of_emps = 0\r\n",
        "\r\n",
        "  def __init__(self, first, last, pay):\r\n",
        "    self.first = first # instance variable\r\n",
        "    self.last = last # ''\r\n",
        "    self.pay = pay #''\r\n",
        "    self.email = first + \".\" + last + \"@company.com\" #''\r\n",
        "\r\n",
        "    Employee3.num_of_emps += 1\r\n",
        "\r\n",
        "  def fullname(self):\r\n",
        "    return \"{} {}\".format(self.first, self.last)\r\n",
        "\r\n",
        "  def apply_raise(self):\r\n",
        "    self.pay = int(self.pay * self.raise_amount)\r\n",
        "\r\n",
        "  def email(self):\r\n",
        "    return \"{}{}\".format(self.first, self.last)\r\n",
        "\r\n",
        "#Creating a subclass Developer\r\n",
        "\r\n",
        "class developer(Employee3):\r\n",
        "  reaise_amount = 1.10\r\n",
        "\r\n",
        "  def __init__(self, first, last, pay, prog_lang):\r\n",
        "    super().__init__(first, last, pay)\r\n",
        "    self.prog_lang = prog_lang\r\n",
        "\r\n",
        "class manager(Employee3):\r\n",
        "  def __init__(self, first, last, pay, number_emp=None):\r\n",
        "    super().__init__(first, last, pay)\r\n",
        "    if number_emp is None:\r\n",
        "      self.number_emp = []\r\n",
        "    else:\r\n",
        "      self.number_emp = number_emp\r\n",
        "\r\n",
        "  def add_emp(self, emp):\r\n",
        "    if emp not in self.number_emp:\r\n",
        "      self.number_emp.append(emp)\r\n",
        "\r\n",
        "  def remove_emp(self, emp):\r\n",
        "    if emp in self.number_emp:\r\n",
        "      self.number_emp.remove(emp)\r\n",
        "\r\n",
        "  def print_emp(self):\r\n",
        "    for emp in self.number_emp:\r\n",
        "      print('-->', emp.fullname())\r\n",
        "\r\n",
        "dev_1 = developer(\"Joao\", \"Vitor\", 7000, \"Python\")\r\n",
        "dev_2 = developer(\"Joao\", \"Siqueira\", 7000, \"Java\")\r\n",
        "\r\n",
        "mng_1 = manager(\"Ida\", \"Marques\", 9000, [dev_1])\r\n",
        "\r\n",
        "\r\n",
        "print(mng_1.print_emp())\r\n",
        "mng_1.add_emp(dev_2)\r\n",
        "print(mng_1.print_emp())\r\n",
        "\r\n",
        "print(dev_1.apply_raise())\r\n",
        "print(dev_1.pay)\r\n",
        "print(mng_1.fullname())\r\n",
        "\r\n",
        "\r\n",
        "\r\n"
      ],
      "execution_count": null,
      "outputs": [
        {
          "output_type": "stream",
          "text": [
            "--> Joao Vitor\n",
            "None\n",
            "--> Joao Vitor\n",
            "--> Joao Siqueira\n",
            "None\n",
            "None\n",
            "7280\n",
            "Ida Marques\n"
          ],
          "name": "stdout"
        }
      ]
    },
    {
      "cell_type": "code",
      "metadata": {
        "colab": {
          "base_uri": "https://localhost:8080/"
        },
        "id": "Zm4R8DxROQ9D",
        "outputId": "594dcabc-f4fe-4d62-f8db-d3e0d59d553c"
      },
      "source": [
        "# OOP Tutorial 5 - Special Methods\r\n",
        "\r\n",
        "class Employee5:\r\n",
        "\r\n",
        "  def __init__(self, first, last, pay):\r\n",
        "    self.first = first\r\n",
        "    self.last = last\r\n",
        "    self.pay = pay\r\n",
        "    self.email = \"{}_{}@company.com\".format(first, last)\r\n",
        "\r\n",
        "  def fullname(self):\r\n",
        "    return self.first + \" \" + self.last\r\n",
        "\r\n",
        "  def xmail(self):\r\n",
        "    return \"{}.{}@company.com\".format(self.first, self.last)\r\n",
        "\r\n",
        "  # Special Methods\r\n",
        "\r\n",
        "  def __repr__(self):\r\n",
        "    return \"Employee5('{}', '{}', {})\".format(self.first, self.last, self.pay)\r\n",
        "  \r\n",
        "  def __str__(self):\r\n",
        "    return \"{} - {}\".format(self.fullname(), self.email())\r\n",
        "\r\n",
        "  def __add__(self, other):\r\n",
        "    return self.pay + other.pay\r\n",
        "\r\n",
        "  def __len__(self):\r\n",
        "    return len(self.fullname())\r\n",
        "\r\n",
        "emp = Employee5(\"Joao\", \"Marques\", 5000)\r\n",
        "emp2 = Employee5(\"Vitor\", \"Brito\", 6000)\r\n",
        "\r\n",
        "print(emp.fullname())\r\n",
        "print(emp.email)\r\n",
        "print(emp.xmail())\r\n",
        "print(len(emp))\r\n",
        "print(emp + emp2)"
      ],
      "execution_count": 6,
      "outputs": [
        {
          "output_type": "stream",
          "text": [
            "Joao Marques\n",
            "Joao_Marques@company.com\n",
            "Joao.Marques@company.com\n",
            "12\n",
            "11000\n"
          ],
          "name": "stdout"
        }
      ]
    },
    {
      "cell_type": "code",
      "metadata": {
        "id": "qxPL9VYy64lk",
        "outputId": "85b86906-1b9b-45de-ed61-81e390fbd488",
        "colab": {
          "base_uri": "https://localhost:8080/"
        }
      },
      "source": [
        "# OOP Tutorial 06 - Property Decorators - Getters, Setters and Deleters \r\n",
        "\r\n",
        "class Employee6:\r\n",
        "\r\n",
        "  def __init__(self, first, last, pay):\r\n",
        "    self.first = first\r\n",
        "    self.last = last\r\n",
        "    self.pay = pay\r\n",
        "    #self.email = \"{}_{}@company.com\".format(first, last)\r\n",
        "\r\n",
        "  def __str__(self):\r\n",
        "    return \"Employee6('{}', '{}', {})\".format(self.first, self.last, self.pay)\r\n",
        "\r\n",
        "  @property #Helps to access the email as method but it can be used as an attribute\r\n",
        "  def email(self):\r\n",
        "    return self.first + \".\" + self.last + \"@email.com\"\r\n",
        "  @property\r\n",
        "  def fullname(self):\r\n",
        "    return self.first + \" \" + self.last\r\n",
        "\r\n",
        "  @fullname.setter # set new names(self) through fullname method - Muda os valores lá no __init__\r\n",
        "  def fullname(self, name):\r\n",
        "    first, last = name.split(\" \")\r\n",
        "    self.first = first\r\n",
        "    self.last = last\r\n",
        "\r\n",
        "  @fullname.deleter # delete the names through fullname method - Tbm muda os valores lá no __init__\r\n",
        "  def fullname(self):\r\n",
        "    print(\"Delete name!\")\r\n",
        "    self.first = None\r\n",
        "    self.last = None\r\n",
        "\r\n",
        "emp_1 = Employee6(\"John\", \"Vitor\", 7000)\r\n",
        "\r\n",
        "emp_1.first = \"Joao\"\r\n",
        "\r\n",
        "  \r\n",
        "#emp_1.fullname = \"Corey Schafer\"\r\n",
        "\r\n",
        "\r\n",
        "\r\n",
        "print(emp_1.first)\r\n",
        "print(emp_1.email)\r\n",
        "print(emp_1.fullname)\r\n",
        "\r\n",
        "del emp_1.fullname\r\n",
        "\r\n",
        "print(emp_1.last)\r\n"
      ],
      "execution_count": 38,
      "outputs": [
        {
          "output_type": "stream",
          "text": [
            "Joao\n",
            "Joao.Vitor@email.com\n",
            "Joao Vitor\n",
            "Delete name!\n",
            "None\n"
          ],
          "name": "stdout"
        }
      ]
    }
  ]
}