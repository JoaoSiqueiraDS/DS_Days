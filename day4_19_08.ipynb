{
  "nbformat": 4,
  "nbformat_minor": 0,
  "metadata": {
    "colab": {
      "name": "Untitled3.ipynb",
      "provenance": [],
      "authorship_tag": "ABX9TyOPaeyhcI8jAP2PB8lXo5Ti",
      "include_colab_link": true
    },
    "kernelspec": {
      "name": "python3",
      "display_name": "Python 3"
    }
  },
  "cells": [
    {
      "cell_type": "markdown",
      "metadata": {
        "id": "view-in-github",
        "colab_type": "text"
      },
      "source": [
        "<a href=\"https://colab.research.google.com/github/JoaoSiqueiraDS/DS_Days/blob/master/day4_19_08.ipynb\" target=\"_parent\"><img src=\"https://colab.research.google.com/assets/colab-badge.svg\" alt=\"Open In Colab\"/></a>"
      ]
    },
    {
      "cell_type": "markdown",
      "metadata": {
        "id": "_Hgvb7iv4dHV",
        "colab_type": "text"
      },
      "source": [
        "#Python OOP - Corye Schafer\n",
        "\n",
        "\n",
        "## Some definitions\n",
        "\n",
        "* Attributes = data and information of an instance\n",
        "* Method = functions \n"
      ]
    },
    {
      "cell_type": "code",
      "metadata": {
        "id": "-I6OSR377fgu",
        "colab_type": "code",
        "colab": {
          "base_uri": "https://localhost:8080/",
          "height": 89
        },
        "outputId": "12411be0-f0fb-4154-de6d-514ebbc9bdca"
      },
      "source": [
        "class Employee:\n",
        "  def __init__(self, first, last, pay):\n",
        "    self.first = first\n",
        "    self.last = last\n",
        "    self.pay = pay\n",
        "    self.email = first + '.' + last + '@company.com'\n",
        "\n",
        "  def fullName(self):\n",
        "    return \"{} {}\".format(self.first, self.last)\n",
        "\n",
        "#Instances\n",
        "emp_1 = Employee('Joao', 'Marques', 10000)\n",
        "emp_2 = Employee('Mari', 'Tebaldi', 20000)\n",
        "\n",
        "print(emp_1.first)\n",
        "\n",
        "\n",
        "# Creating a method to display the full name\n",
        "\n",
        "#It could be done through Formatt\n",
        "\n",
        "print(\"{} {}\".format(emp_1.first, emp_1.last))\n",
        "\n",
        "#But things can be easier with a method \"fullName\"\n",
        "\n",
        "print(emp_2.fullName())\n",
        "\n",
        "emp_2.fullName()\n",
        "  "
      ],
      "execution_count": 4,
      "outputs": [
        {
          "output_type": "stream",
          "text": [
            "Joao\n",
            "Joao Marques\n",
            "Mari Tebaldi\n"
          ],
          "name": "stdout"
        },
        {
          "output_type": "execute_result",
          "data": {
            "application/vnd.google.colaboratory.intrinsic+json": {
              "type": "string"
            },
            "text/plain": [
              "'Mari Tebaldi'"
            ]
          },
          "metadata": {
            "tags": []
          },
          "execution_count": 4
        }
      ]
    },
    {
      "cell_type": "markdown",
      "metadata": {
        "id": "Clt_puFfpSH0",
        "colab_type": "text"
      },
      "source": [
        "* Class variables = self.first, self.last, self.pay, etc. They are variables that **are shared among all instances** in a class. While Instance variables are unique for each instances. \n",
        " \n",
        " def __init__(self, first, last, pay):\n",
        "\n",
        "      self.first = first\n",
        "\n",
        "      self.last = last\n",
        "\n",
        "      self.pay = pay\n",
        "\n",
        "      self.email = first + '.' + last + '@company.com'\n"
      ]
    },
    {
      "cell_type": "code",
      "metadata": {
        "id": "BDUKcWhPtyPQ",
        "colab_type": "code",
        "colab": {
          "base_uri": "https://localhost:8080/",
          "height": 90
        },
        "outputId": "4186bf89-d12c-4ff9-c6b8-281a7f01e9af"
      },
      "source": [
        "class Employee:\n",
        "\n",
        "  raise_amount = 1.04\n",
        "  num_of_emps = 0\n",
        "\n",
        "  def __init__(self, first, last, pay):\n",
        "    self.first = first\n",
        "    self.last = last\n",
        "    self.pay = pay\n",
        "    self.email = first + '.' + last + '@company.com'\n",
        "    Employee.num_of_emps += 1\n",
        "\n",
        "  def fullName(self):\n",
        "    return \"{} {}\".format(self.first, self.last)\n",
        "\n",
        "  def apply_raise(self):\n",
        "    self.pay = int(self.pay * self.raise_amount)\n",
        "\n",
        "emp_3 = Employee(\"Lucas\",\"Silva\",5000)\n",
        "\n",
        "emp_4 = Employee(\"Lucas\",\"Moura\",5000)\n",
        "\n",
        "dog1 = Employee(\"Thor\", \"Pedro\", 32)\n",
        "\n",
        "print(Employee.num_of_emps)\n",
        "\n",
        "print(emp_3.raise_amount)\n",
        "\n",
        "print(Employee.__dict__)"
      ],
      "execution_count": 21,
      "outputs": [
        {
          "output_type": "stream",
          "text": [
            "3\n",
            "1.04\n",
            "{'__module__': '__main__', 'raise_amount': 1.04, 'num_of_emps': 3, '__init__': <function Employee.__init__ at 0x7f48c09460d0>, 'fullName': <function Employee.fullName at 0x7f48c0946d90>, 'apply_raise': <function Employee.apply_raise at 0x7f48c0946f28>, '__dict__': <attribute '__dict__' of 'Employee' objects>, '__weakref__': <attribute '__weakref__' of 'Employee' objects>, '__doc__': None}\n"
          ],
          "name": "stdout"
        }
      ]
    }
  ]
}