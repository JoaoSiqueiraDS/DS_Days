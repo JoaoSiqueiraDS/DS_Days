{
  "nbformat": 4,
  "nbformat_minor": 0,
  "metadata": {
    "colab": {
      "name": "Untitled3.ipynb",
      "provenance": [],
      "authorship_tag": "ABX9TyNIO+u/VSb891XkbS88tZcu",
      "include_colab_link": true
    },
    "kernelspec": {
      "name": "python3",
      "display_name": "Python 3"
    }
  },
  "cells": [
    {
      "cell_type": "markdown",
      "metadata": {
        "id": "view-in-github",
        "colab_type": "text"
      },
      "source": [
        "<a href=\"https://colab.research.google.com/github/JoaoSiqueiraDS/DS_Days/blob/master/Day4%20-%2019_08.ipynb\" target=\"_parent\"><img src=\"https://colab.research.google.com/assets/colab-badge.svg\" alt=\"Open In Colab\"/></a>"
      ]
    },
    {
      "cell_type": "markdown",
      "metadata": {
        "id": "_Hgvb7iv4dHV",
        "colab_type": "text"
      },
      "source": [
        "#Python OOP - Corye Schafer\n",
        "\n",
        "\n",
        "## Some definitions\n",
        "\n",
        "* Attributes = data and information of an instance\n",
        "* Method = functions \n"
      ]
    },
    {
      "cell_type": "code",
      "metadata": {
        "id": "-I6OSR377fgu",
        "colab_type": "code",
        "colab": {
          "base_uri": "https://localhost:8080/",
          "height": 88
        },
        "outputId": "a73e9ebb-6fee-41c6-9803-2f900a2db135"
      },
      "source": [
        "class Employee:\n",
        "  def __init__(self, first, last, pay):\n",
        "    self.first = first\n",
        "    self.last = last\n",
        "    self.pay = pay\n",
        "    self.email = first + '.' + last + '@company.com'\n",
        "\n",
        "  def fullName(self):\n",
        "    return \"{} {}\".format(self.first, self.last)\n",
        "\n",
        "#Instances\n",
        "emp_1 = Employee('Joao', 'Marques', 10000)\n",
        "emp_2 = Employee('Mari', 'Tebaldi', 20000)\n",
        "\n",
        "print(emp_1.first)\n",
        "\n",
        "\n",
        "# Creating a method to display the full name\n",
        "\n",
        "#It could be done through Formatt\n",
        "\n",
        "print(\"{} {}\".format(emp_1.first, emp_1.last))\n",
        "\n",
        "#But things can be easier with a method \"fullName\"\n",
        "\n",
        "print(emp_2.fullName())\n",
        "\n",
        "emp_2.fullName()\n",
        "  "
      ],
      "execution_count": 13,
      "outputs": [
        {
          "output_type": "stream",
          "text": [
            "Joao\n",
            "Joao Marques\n",
            "Mari Tebaldi\n",
            "Mari Tebaldi\n"
          ],
          "name": "stdout"
        }
      ]
    }
  ]
}