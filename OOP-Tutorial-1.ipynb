{
  "nbformat": 4,
  "nbformat_minor": 0,
  "metadata": {
    "colab": {
      "name": "Untitled44.ipynb",
      "provenance": [],
      "authorship_tag": "ABX9TyMvn+I/NPBQ0wOYQbA1EJup",
      "include_colab_link": true
    },
    "kernelspec": {
      "name": "python3",
      "display_name": "Python 3"
    }
  },
  "cells": [
    {
      "cell_type": "markdown",
      "metadata": {
        "id": "view-in-github",
        "colab_type": "text"
      },
      "source": [
        "<a href=\"https://colab.research.google.com/github/JoaoSiqueiraDS/DS_Days/blob/January_21/OOP-Tutorial-1.ipynb\" target=\"_parent\"><img src=\"https://colab.research.google.com/assets/colab-badge.svg\" alt=\"Open In Colab\"/></a>"
      ]
    },
    {
      "cell_type": "code",
      "metadata": {
        "id": "hjOVPjS-rYzV",
        "outputId": "2c7962ed-18bd-4e07-9726-5cb17525c2ef",
        "colab": {
          "base_uri": "https://localhost:8080/"
        }
      },
      "source": [
        "# Python Object-Oriented Programming\r\n",
        "\r\n",
        "# Corey Schafer - Tutorial 1\r\n",
        "\r\n",
        "class Employee:\r\n",
        "  pass\r\n",
        "\r\n",
        "emp_1 = Employee()\r\n",
        "emp_2 = Employee()\r\n",
        "\r\n",
        "print(emp_1)\r\n",
        "print(emp_2)\r\n",
        "\r\n",
        "emp_1.first = \"Corey\"\r\n",
        "emp_1.last = \"Schafer\"\r\n",
        "emp_1.email = \"corey.Schafer@company.com\"\r\n",
        "emp_1.pay = 50000\r\n",
        "\r\n",
        "emp_2.first = \"test\"\r\n",
        "emp_2.last = \"USer\"\r\n",
        "emp_2.email = \"Test.User@company.com\"\r\n",
        "emp_2.pay = 60000\r\n",
        "\r\n",
        "print(emp_1.email)\r\n",
        "print(emp_2.email)\r\n",
        "\r\n",
        "# So far ... It very likely that we will make a mistake typing all these codes. I does not make much sense. \r\n",
        "\r\n",
        "# Therefore, let's introduce the '__init__' method ... \r\n",
        "\r\n"
      ],
      "execution_count": 2,
      "outputs": [
        {
          "output_type": "stream",
          "text": [
            "<__main__.Employee object at 0x7f0b7c46b550>\n",
            "<__main__.Employee object at 0x7f0b7c46b518>\n",
            "corey.Schafer@company.com\n",
            "Test.User@company.com\n"
          ],
          "name": "stdout"
        }
      ]
    },
    {
      "cell_type": "code",
      "metadata": {
        "id": "XshapclR0YzF",
        "outputId": "e459c679-d6c1-4de2-9f56-54f61e8202ef",
        "colab": {
          "base_uri": "https://localhost:8080/"
        }
      },
      "source": [
        "class Employee2:\r\n",
        "  def __init__(self, first, last, pay):\r\n",
        "    self.first = first\r\n",
        "    self.last = last\r\n",
        "    self.pay = pay\r\n",
        "    self.email = first + \".\" + last + \"@company.com\"\r\n",
        "\r\n",
        "  def fullname(self):\r\n",
        "    return \"{} {}\".format(self.first, self.last)\r\n",
        "\r\n",
        "emp_3 = Employee2(\"Joao\", \"Marques\", 3500)\r\n",
        "emp_4 = Employee2(\"Mari\", \"Tebaldi\", 5000)\r\n",
        "\r\n",
        "print(emp_3.fullname())"
      ],
      "execution_count": 6,
      "outputs": [
        {
          "output_type": "stream",
          "text": [
            "Joao Marques\n"
          ],
          "name": "stdout"
        }
      ]
    }
  ]
}