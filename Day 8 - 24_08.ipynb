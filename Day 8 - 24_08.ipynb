{
  "nbformat": 4,
  "nbformat_minor": 0,
  "metadata": {
    "colab": {
      "name": "Untitled6.ipynb",
      "provenance": [],
      "authorship_tag": "ABX9TyO5cC/UBDl0bI7J/tD3lfVX",
      "include_colab_link": true
    },
    "kernelspec": {
      "name": "python3",
      "display_name": "Python 3"
    }
  },
  "cells": [
    {
      "cell_type": "markdown",
      "metadata": {
        "id": "view-in-github",
        "colab_type": "text"
      },
      "source": [
        "<a href=\"https://colab.research.google.com/github/JoaoSiqueiraDS/DS_Days/blob/master/Day%208%20-%2024_08.ipynb\" target=\"_parent\"><img src=\"https://colab.research.google.com/assets/colab-badge.svg\" alt=\"Open In Colab\"/></a>"
      ]
    },
    {
      "cell_type": "markdown",
      "metadata": {
        "id": "1lMOOCG2jyGN",
        "colab_type": "text"
      },
      "source": [
        "### Day 8 - 24_08\n",
        "\n",
        "# Corey Schafer - OOP - Episode 04\n",
        "\n"
      ]
    },
    {
      "cell_type": "code",
      "metadata": {
        "id": "R5UETs_cxYHy",
        "colab_type": "code",
        "colab": {
          "base_uri": "https://localhost:8080/",
          "height": 106
        },
        "outputId": "0f693c86-399a-4d66-e8ac-50134a9c607f"
      },
      "source": [
        "class employee:\n",
        "\n",
        "  raise_amount = 1.04\n",
        "\n",
        "  def __init__(self, first, last, pay):\n",
        "    self.first = first\n",
        "    self.last = last\n",
        "    self.pay = pay\n",
        "    self.email = first + \".\" + last + \"@email.com\"\n",
        "\n",
        "  def full_name(self):\n",
        "    return \"{} {}\".format(self.first, self.last)\n",
        "\n",
        "  def apply_raise(self):\n",
        "    self.pay = int(self.pay*self.raise_amount)\n",
        "\n",
        "  @staticmethod\n",
        "  def is_workday(day):\n",
        "    if day.weekday() == 5 or day.weekday() == 6:\n",
        "      return False\n",
        "    else:\n",
        "      return True\n",
        "\n",
        "  \n",
        "\n",
        "  \n",
        "\n",
        "# Creating an instance \n",
        "\n",
        "emp_1 = employee(\"John\", \"Marques\", 6000)\n",
        "emp_2 = employee(\"Ida\", \"Santos\", 5000)\n",
        "\n",
        "print(emp_1.full_name())\n",
        "\n",
        "print(emp_2.pay)\n",
        "\n",
        "print(emp_2.email)\n",
        "\n",
        "emp_1.apply_raise()\n",
        "\n",
        "print(emp_1.pay)\n",
        "\n",
        "import datetime\n",
        "\n",
        "my_date = datetime.date(1985,12,20)\n",
        "\n",
        "print(employee.is_workday(my_date))\n",
        "\n"
      ],
      "execution_count": 13,
      "outputs": [
        {
          "output_type": "stream",
          "text": [
            "John Marques\n",
            "5000\n",
            "Ida.Santos@email.com\n",
            "6240\n",
            "True\n"
          ],
          "name": "stdout"
        }
      ]
    },
    {
      "cell_type": "markdown",
      "metadata": {
        "id": "bzlJEwH-JI87",
        "colab_type": "text"
      },
      "source": [
        "### Python Programmer Tips on how to learn Python faster\n",
        "\n",
        "https://www.youtube.com/watch?v=xsEXpzsLsc0\n",
        "\n",
        "\n",
        "* It is never too late\n",
        "\n",
        "* Learn to think computationaly\n",
        "\n",
        "* Find a learning resource and stick to it\n",
        "\n",
        "* There's free resource\n",
        "\n",
        "* **Dont spend too much on the basics ... Work on projects, little problems you may find online.**\n",
        "\n",
        "* Learn data structures and algorthms\n",
        "\n",
        "* Find problems and projects that require you to use data structure and algorithms - https://leetcode.com/\n",
        "\n",
        "* Learn to use OOP\n",
        "\n",
        "* Create and writhe a blog to document your experience with Python\n",
        "\n",
        "* Make sure you kno how to use Git and Github"
      ]
    }
  ]
}